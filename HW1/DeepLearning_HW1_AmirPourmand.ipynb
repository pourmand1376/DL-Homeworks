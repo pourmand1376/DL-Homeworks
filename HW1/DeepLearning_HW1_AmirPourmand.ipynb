{
  "nbformat": 4,
  "nbformat_minor": 0,
  "metadata": {
    "colab": {
      "name": "DeepLearning_HW1_AmirPourmand.ipynb",
      "provenance": []
    },
    "kernelspec": {
      "name": "python3",
      "display_name": "Python 3"
    },
    "language_info": {
      "name": "python"
    }
  },
  "cells": [
    {
      "cell_type": "code",
      "metadata": {
        "id": "lHTkHDwgjezm"
      },
      "source": [
        "# Amir Pourmand - 99210259"
      ],
      "execution_count": 1,
      "outputs": []
    },
    {
      "cell_type": "code",
      "metadata": {
        "id": "Yp-PPpcWjkJ-"
      },
      "source": [
        "# Amir Pourmand (99210259)\n",
        "\n",
        "import torchvision.datasets as ds\n",
        "from sklearn.utils import shuffle\n",
        "import numpy as np\n",
        "import pandas as pd\n",
        "import matplotlib.pyplot as plt\n",
        "\n",
        "data_train = np.array(ds.FashionMNIST(root=\"./data\", train=True, download=True).data)\n",
        "target_train = np.array(ds.FashionMNIST(root=\"./data\", train=True, download=True).targets)\n",
        "data_test = np.array(ds.FashionMNIST(root=\"./data\", train=False, download=True).data)\n",
        "target_test = np.array(ds.FashionMNIST(root=\"./data\", train=False, download=True).targets)\n",
        "\n",
        "#data_train, target_train = shuffle(data_train, target_train)\n",
        "\n",
        "#### Transform the data! ####\n",
        "data_train =data_train / 255\n",
        "data_test = data_test / 255\n",
        "\n",
        "target_train=pd.get_dummies(target_train).values\n",
        "target_test = pd.get_dummies(target_test).values\n",
        "\n",
        "data_train=data_train.reshape((-1,28*28))\n",
        "data_test = data_test.reshape((-1,28*28))\n"
      ],
      "execution_count": 10,
      "outputs": []
    },
    {
      "cell_type": "code",
      "metadata": {
        "id": "0HSomUKBjueB"
      },
      "source": [
        "from IPython.core.debugger import set_trace\n"
      ],
      "execution_count": 3,
      "outputs": []
    },
    {
      "cell_type": "markdown",
      "metadata": {
        "id": "cKMbN9g6nClD"
      },
      "source": [
        "#Part 1"
      ]
    },
    {
      "cell_type": "code",
      "metadata": {
        "colab": {
          "base_uri": "https://localhost:8080/",
          "height": 268
        },
        "id": "Q6D2Sr58jy-y",
        "outputId": "1a5b6bcb-fe7a-4411-d025-6453e31614f4"
      },
      "source": [
        "def show_grid_twobytwo(data):\n",
        "    my_pic=data[np.random.randint(0,60000,4)]\n",
        "    fig, axs = plt.subplots(2, 2)\n",
        "    axs[0, 0].imshow(my_pic[0].reshape(28,28))\n",
        "    axs[0, 1].imshow(my_pic[1].reshape(28,28))\n",
        "    axs[1, 0].imshow(my_pic[2].reshape(28,28))\n",
        "    axs[1, 1].imshow(my_pic[3].reshape(28,28))\n",
        "\n",
        "show_grid_twobytwo(data_train)"
      ],
      "execution_count": 17,
      "outputs": [
        {
          "output_type": "display_data",
          "data": {
            "image/png": "[encoded data removed]",
            "text/plain": [
              "<Figure size 432x288 with 4 Axes>"
            ]
          },
          "metadata": {
            "needs_background": "light"
          }
        }
      ]
    },
    {
      "cell_type": "markdown",
      "metadata": {
        "id": "adQvjWTgnCD7"
      },
      "source": [
        "#Part 2"
      ]
    },
    {
      "cell_type": "code",
      "metadata": {
        "id": "aTBkZZJ9lkyF"
      },
      "source": [
        "class ReLU():\n",
        "    def forward(self, x):\n",
        "        self.old_x = np.copy(x)\n",
        "        return np.clip(x,0,None)\n",
        "\n",
        "    def backward(self, grad):\n",
        "        return np.where(self.old_x>0,grad,0)\n",
        "\n",
        "class Sigmoid():\n",
        "    def forward(self, x):\n",
        "        self.old_y = np.exp(x) / (1. + np.exp(x))\n",
        "        return self.old_y\n",
        "\n",
        "    def backward(self, grad):\n",
        "        return self.old_y * (1. - self.old_y) * grad\n",
        "\n",
        "class Softmax():\n",
        "    def forward(self,x):\n",
        "            self.old_y = np.exp(x) / np.exp(x).sum(axis=1) [:,None]\n",
        "            return self.old_y\n",
        "\n",
        "    def backward(self,grad):\n",
        "            return self.old_y * (grad -(grad * self.old_y).sum(axis=1)[:,None])\n",
        "\n",
        "class CrossEntropy():\n",
        "    def forward(self,x,y):\n",
        "            self.old_x = x.clip(min=1e-8,max=None)\n",
        "            self.old_y = y\n",
        "            return (np.where(y==1,-np.log(self.old_x), 0)).sum(axis=1)\n",
        "\n",
        "    def backward(self):\n",
        "            return np.where(self.old_y==1,-1/self.old_x, 0)\n",
        "\n",
        "\n",
        "class Linear():\n",
        "    def __init__(self,n_in,n_out,momentum=False):\n",
        "        self.weights = np.random.randn(n_in,n_out) * np.sqrt(2/n_in)\n",
        "        self.biases = np.zeros(n_out)\n",
        "\n",
        "        self.momentum = momentum\n",
        "        if momentum:\n",
        "            self.grad_w =self.previous = np.zeros((n_in,n_out))\n",
        "\n",
        "    def forward(self, x):\n",
        "        self.old_x = x\n",
        "        return np.dot(x,self.weights) + self.biases\n",
        "\n",
        "    def backward(self,grad):\n",
        "        self.grad_b = grad.mean(axis=0)\n",
        "\n",
        "        if self.momentum:\n",
        "            self.previous = self.grad_w\n",
        "\n",
        "        self.grad_w = (np.matmul(self.old_x[:,:,None],grad[:,None,:])).mean(axis=0)\n",
        "        return np.dot(grad,self.weights.transpose())\n",
        "\n",
        "\n"
      ],
      "execution_count": 176,
      "outputs": []
    },
    {
      "cell_type": "code",
      "metadata": {
        "id": "6ltck573m0Z2"
      },
      "source": [
        "class Model():\n",
        "    def __init__(self, layers, cost):\n",
        "        self.layers = layers\n",
        "        self.cost = cost\n",
        "\n",
        "    def forward(self,x):\n",
        "        for layer in self.layers:\n",
        "            x = layer.forward(x)\n",
        "        return x\n",
        "\n",
        "    def loss(self,x,y):\n",
        "        self.output = self.forward(x)\n",
        "        return self.cost.forward(self.output,y)\n",
        "\n",
        "    def backward(self):\n",
        "        grad = self.cost.backward()\n",
        "        for i in range(len(self.layers)-1,-1,-1):\n",
        "            grad = self.layers[i].backward(grad)\n",
        "\n",
        "    def calculate_accuracy(self, real):\n",
        "        predictedNumber = np.argmax(self.output,axis=1)\n",
        "        realNumber = np.argmax(real,axis=1)\n",
        "        return np.mean(predictedNumber == realNumber)\n",
        "\n",
        "\n",
        "def train(model,lr,nb_epoch,data,label,batch_size=1000):\n",
        "    loss_train = []\n",
        "    loss_test = []\n",
        "\n",
        "    accuracy_train = []\n",
        "    accuracy_test = []\n",
        "    for epoch in range(nb_epoch):\n",
        "        lr = lr * 0.99\n",
        "        if lr < 1e-3:\n",
        "            lr = 1e-3\n",
        "\n",
        "        num_inputs = 0\n",
        "        running_loss = 0\n",
        "        accuracy = 0\n",
        "\n",
        "        number_of_batches = int(data.shape[0]/batch_size)\n",
        "        for i in range(number_of_batches):\n",
        "            input = data[i*batch_size:(i+1)*batch_size]\n",
        "            output = label[i*batch_size:(i+1)*batch_size]\n",
        "            num_inputs += input.shape[0]\n",
        "            running_loss += model.loss(input,output).sum()\n",
        "            model.backward()\n",
        "\n",
        "            accuracy += model.calculate_accuracy(output)\n",
        "\n",
        "            for layer in model.layers:\n",
        "                if type(layer) == Linear:\n",
        "                    layer.weights -= lr * layer.grad_w\n",
        "                    layer.biases -= lr * layer.grad_b\n",
        "        print(f'Epoch {epoch+1}/{nb_epoch}: loss train = {running_loss}')\n",
        "        print(f'Train accuracy: {accuracy/number_of_batches}')\n",
        "\n",
        "        loss_test_current = model.loss(data_test,target_test).sum()\n",
        "        print(f'Epoch {epoch+1}/{nb_epoch}: loss test = {loss_test_current}')\n",
        "        accuracy_current_test= model.calculate_accuracy(target_test)\n",
        "        print(f'Test accuracy: {accuracy_current_test}')\n",
        "\n",
        "        loss_train.append(running_loss)\n",
        "        loss_test.append(loss_test_current)\n",
        "        \n",
        "        accuracy_train.append(accuracy/number_of_batches)\n",
        "        accuracy_test.append(accuracy_current_test)\n",
        "    return loss_train,loss_test,accuracy_train,accuracy_test"
      ],
      "execution_count": 136,
      "outputs": []
    },
    {
      "cell_type": "code",
      "metadata": {
        "id": "x5o--DjtnrBn"
      },
      "source": [
        "net = Model([Linear(784,128), Sigmoid(), Linear(128,64), Sigmoid(), Linear(64,10), Softmax()], CrossEntropy())"
      ],
      "execution_count": 139,
      "outputs": []
    },
    {
      "cell_type": "code",
      "metadata": {
        "colab": {
          "base_uri": "https://localhost:8080/"
        },
        "id": "vCNQJQbXxyZY",
        "outputId": "f1075305-55bf-4bfb-8cea-29aa89d4f3be"
      },
      "source": [
        " epoch_count = 30\n",
        " loss_train,loss_test,accuracy_train,accuracy_test = train(net,1e-1,epoch_count,data_train,target_train)"
      ],
      "execution_count": 140,
      "outputs": [
        {
          "output_type": "stream",
          "name": "stdout",
          "text": [
            "Epoch 1/30: loss train = 132827.31534895362\n",
            "Train accuracy: 0.3532333333333334\n",
            "Epoch 1/30: loss test = 20946.296056284016\n",
            "Test accuracy: 0.4632\n",
            "Epoch 2/30: loss train = 117172.60599323544\n",
            "Train accuracy: 0.5205333333333333\n",
            "Epoch 2/30: loss test = 17953.662677965036\n",
            "Test accuracy: 0.5687\n",
            "Epoch 3/30: loss train = 98626.18946359388\n",
            "Train accuracy: 0.6223333333333333\n",
            "Epoch 3/30: loss test = 15075.571274081087\n",
            "Test accuracy: 0.66\n",
            "Epoch 4/30: loss train = 83943.86310049995\n",
            "Train accuracy: 0.6666999999999998\n",
            "Epoch 4/30: loss test = 13095.937413259353\n",
            "Test accuracy: 0.6757\n",
            "Epoch 5/30: loss train = 73973.71860094678\n",
            "Train accuracy: 0.6827666666666665\n",
            "Epoch 5/30: loss test = 11739.020457773331\n",
            "Test accuracy: 0.6895\n",
            "Epoch 6/30: loss train = 66933.03985993215\n",
            "Train accuracy: 0.6955500000000002\n",
            "Epoch 6/30: loss test = 10751.809601783323\n",
            "Test accuracy: 0.6981\n",
            "Epoch 7/30: loss train = 61667.876132650716\n",
            "Train accuracy: 0.7071833333333334\n",
            "Epoch 7/30: loss test = 9995.114571604656\n",
            "Test accuracy: 0.7081\n",
            "Epoch 8/30: loss train = 57547.6836181342\n",
            "Train accuracy: 0.7169500000000002\n",
            "Epoch 8/30: loss test = 9392.592953102454\n",
            "Test accuracy: 0.7145\n",
            "Epoch 9/30: loss train = 54219.690978905935\n",
            "Train accuracy: 0.7259166666666667\n",
            "Epoch 9/30: loss test = 8900.556119154262\n",
            "Test accuracy: 0.7213\n",
            "Epoch 10/30: loss train = 51476.333175961896\n",
            "Train accuracy: 0.7324499999999997\n",
            "Epoch 10/30: loss test = 8492.417457977645\n",
            "Test accuracy: 0.7266\n",
            "Epoch 11/30: loss train = 49186.19135391677\n",
            "Train accuracy: 0.7386833333333331\n",
            "Epoch 11/30: loss test = 8150.55075674045\n",
            "Test accuracy: 0.7305\n",
            "Epoch 12/30: loss train = 47258.16462239753\n",
            "Train accuracy: 0.74345\n",
            "Epoch 12/30: loss test = 7862.141325124827\n",
            "Test accuracy: 0.7352\n",
            "Epoch 13/30: loss train = 45623.69243591608\n",
            "Train accuracy: 0.7477166666666668\n",
            "Epoch 13/30: loss test = 7617.196853815864\n",
            "Test accuracy: 0.7397\n",
            "Epoch 14/30: loss train = 44228.35205687464\n",
            "Train accuracy: 0.7510666666666668\n",
            "Epoch 14/30: loss test = 7407.643638566689\n",
            "Test accuracy: 0.7443\n",
            "Epoch 15/30: loss train = 43027.944823165264\n",
            "Train accuracy: 0.7541333333333332\n",
            "Epoch 15/30: loss test = 7226.9017491708255\n",
            "Test accuracy: 0.7486\n",
            "Epoch 16/30: loss train = 41986.448992140344\n",
            "Train accuracy: 0.7577333333333333\n",
            "Epoch 16/30: loss test = 7069.62804951542\n",
            "Test accuracy: 0.7513\n",
            "Epoch 17/30: loss train = 41074.62375804611\n",
            "Train accuracy: 0.7610500000000001\n",
            "Epoch 17/30: loss test = 6931.510152426372\n",
            "Test accuracy: 0.7538\n",
            "Epoch 18/30: loss train = 40268.860103027044\n",
            "Train accuracy: 0.7637333333333335\n",
            "Epoch 18/30: loss test = 6809.085700227674\n",
            "Test accuracy: 0.7569\n",
            "Epoch 19/30: loss train = 39550.18896524748\n",
            "Train accuracy: 0.7662666666666667\n",
            "Epoch 19/30: loss test = 6699.585315690341\n",
            "Test accuracy: 0.7591\n",
            "Epoch 20/30: loss train = 38903.42894354668\n",
            "Train accuracy: 0.7691666666666666\n",
            "Epoch 20/30: loss test = 6600.79917734809\n",
            "Test accuracy: 0.761\n",
            "Epoch 21/30: loss train = 38316.4627883525\n",
            "Train accuracy: 0.7717000000000003\n",
            "Epoch 21/30: loss test = 6510.965634710272\n",
            "Test accuracy: 0.763\n",
            "Epoch 22/30: loss train = 37779.63061594186\n",
            "Train accuracy: 0.7742500000000001\n",
            "Epoch 22/30: loss test = 6428.67942762729\n",
            "Test accuracy: 0.7656\n",
            "Epoch 23/30: loss train = 37285.2270813171\n",
            "Train accuracy: 0.7766166666666667\n",
            "Epoch 23/30: loss test = 6352.816926654394\n",
            "Test accuracy: 0.7678\n",
            "Epoch 24/30: loss train = 36827.09009696092\n",
            "Train accuracy: 0.7792333333333338\n",
            "Epoch 24/30: loss test = 6282.476002181724\n",
            "Test accuracy: 0.7703\n",
            "Epoch 25/30: loss train = 36400.26954895911\n",
            "Train accuracy: 0.7815499999999999\n",
            "Epoch 25/30: loss test = 6216.928352809768\n",
            "Test accuracy: 0.7715\n",
            "Epoch 26/30: loss train = 36000.76493478377\n",
            "Train accuracy: 0.7839000000000002\n",
            "Epoch 26/30: loss test = 6155.582225125222\n",
            "Test accuracy: 0.7738\n",
            "Epoch 27/30: loss train = 35625.32065576926\n",
            "Train accuracy: 0.7856333333333333\n",
            "Epoch 27/30: loss test = 6097.953503577149\n",
            "Test accuracy: 0.7769\n",
            "Epoch 28/30: loss train = 35271.26760508346\n",
            "Train accuracy: 0.7879166666666667\n",
            "Epoch 28/30: loss test = 6043.643295294777\n",
            "Test accuracy: 0.7789\n",
            "Epoch 29/30: loss train = 34936.400542759235\n",
            "Train accuracy: 0.7897666666666665\n",
            "Epoch 29/30: loss test = 5992.320432960774\n",
            "Test accuracy: 0.7804\n",
            "Epoch 30/30: loss train = 34618.88255533996\n",
            "Train accuracy: 0.7919833333333334\n",
            "Epoch 30/30: loss test = 5943.707690938072\n",
            "Test accuracy: 0.7822\n"
          ]
        }
      ]
    },
    {
      "cell_type": "code",
      "metadata": {
        "colab": {
          "base_uri": "https://localhost:8080/",
          "height": 283
        },
        "id": "ukJIAwMAx8wv",
        "outputId": "b5d13dce-a9ed-47b8-9e78-83561568ce27"
      },
      "source": [
        "plt.plot(np.arange(epoch_count), loss_train)"
      ],
      "execution_count": 141,
      "outputs": [
        {
          "output_type": "execute_result",
          "data": {
            "text/plain": [
              "[<matplotlib.lines.Line2D at 0x7f6f1290e550>]"
            ]
          },
          "metadata": {},
          "execution_count": 141
        },
        {
          "output_type": "display_data",
          "data": {
            "image/png": "[encoded data removed]",
            "text/plain": [
              "<Figure size 432x288 with 1 Axes>"
            ]
          },
          "metadata": {
            "needs_background": "light"
          }
        }
      ]
    },
    {
      "cell_type": "code",
      "metadata": {
        "colab": {
          "base_uri": "https://localhost:8080/",
          "height": 283
        },
        "id": "Y0ZAcESvzz2R",
        "outputId": "c003455d-7d2a-45d0-d688-83aa5d7b5782"
      },
      "source": [
        "plt.plot(np.arange(epoch_count), loss_test)"
      ],
      "execution_count": 142,
      "outputs": [
        {
          "output_type": "execute_result",
          "data": {
            "text/plain": [
              "[<matplotlib.lines.Line2D at 0x7f6f128e6ed0>]"
            ]
          },
          "metadata": {},
          "execution_count": 142
        },
        {
          "output_type": "display_data",
          "data": {
            "image/png": "[encoded data removed]",
            "text/plain": [
              "<Figure size 432x288 with 1 Axes>"
            ]
          },
          "metadata": {
            "needs_background": "light"
          }
        }
      ]
    },
    {
      "cell_type": "code",
      "metadata": {
        "colab": {
          "base_uri": "https://localhost:8080/",
          "height": 283
        },
        "id": "59_S7sYw_LDg",
        "outputId": "7ac48042-4cc0-4ec9-fb8b-438e71dd336f"
      },
      "source": [
        "plt.plot(np.arange(epoch_count), accuracy_train)"
      ],
      "execution_count": 143,
      "outputs": [
        {
          "output_type": "execute_result",
          "data": {
            "text/plain": [
              "[<matplotlib.lines.Line2D at 0x7f6f12856c90>]"
            ]
          },
          "metadata": {},
          "execution_count": 143
        },
        {
          "output_type": "display_data",
          "data": {
            "image/png": "[encoded data removed]",
            "text/plain": [
              "<Figure size 432x288 with 1 Axes>"
            ]
          },
          "metadata": {
            "needs_background": "light"
          }
        }
      ]
    },
    {
      "cell_type": "code",
      "metadata": {
        "colab": {
          "base_uri": "https://localhost:8080/",
          "height": 283
        },
        "id": "nOfGnpgiDX8I",
        "outputId": "de7657e2-996f-4c7e-9090-30cd8269fc9e"
      },
      "source": [
        "plt.plot(np.arange(epoch_count), accuracy_test)"
      ],
      "execution_count": 144,
      "outputs": [
        {
          "output_type": "execute_result",
          "data": {
            "text/plain": [
              "[<matplotlib.lines.Line2D at 0x7f6f127c3450>]"
            ]
          },
          "metadata": {},
          "execution_count": 144
        },
        {
          "output_type": "display_data",
          "data": {
            "image/png": "[encoded data removed]",
            "text/plain": [
              "<Figure size 432x288 with 1 Axes>"
            ]
          },
          "metadata": {
            "needs_background": "light"
          }
        }
      ]
    },
    {
      "cell_type": "markdown",
      "metadata": {
        "id": "Wv-_eTn-MG9O"
      },
      "source": [
        "# Part 3"
      ]
    },
    {
      "cell_type": "code",
      "metadata": {
        "id": "PeYWNZUkHyia"
      },
      "source": [
        "net2 = Model([Linear(784,128), ReLU(), Linear(128,64), ReLU(), Linear(64,10), Softmax()], CrossEntropy())"
      ],
      "execution_count": 146,
      "outputs": []
    },
    {
      "cell_type": "code",
      "metadata": {
        "colab": {
          "base_uri": "https://localhost:8080/"
        },
        "id": "KkDhAUJfH_Oi",
        "outputId": "364b28d5-8ba3-4a42-a1d2-dafec4fad80d"
      },
      "source": [
        " epoch_count = 30\n",
        " loss_train,loss_test,accuracy_train,accuracy_test = train(net,1e-1,epoch_count,data_train,target_train)"
      ],
      "execution_count": 147,
      "outputs": [
        {
          "output_type": "stream",
          "name": "stdout",
          "text": [
            "Epoch 1/30: loss train = 34273.999245328014\n",
            "Train accuracy: 0.7943333333333332\n",
            "Epoch 1/30: loss test = 5882.024706903974\n",
            "Test accuracy: 0.7845\n",
            "Epoch 2/30: loss train = 33891.26773555227\n",
            "Train accuracy: 0.7967333333333333\n",
            "Epoch 2/30: loss test = 5823.962497812203\n",
            "Test accuracy: 0.7865\n",
            "Epoch 3/30: loss train = 33530.60173532922\n",
            "Train accuracy: 0.7998333333333332\n",
            "Epoch 3/30: loss test = 5769.388843975354\n",
            "Test accuracy: 0.7884\n",
            "Epoch 4/30: loss train = 33190.318871548116\n",
            "Train accuracy: 0.8021333333333331\n",
            "Epoch 4/30: loss test = 5717.999626335039\n",
            "Test accuracy: 0.7909\n",
            "Epoch 5/30: loss train = 32868.717160099586\n",
            "Train accuracy: 0.8039666666666668\n",
            "Epoch 5/30: loss test = 5669.53330350921\n",
            "Test accuracy: 0.793\n",
            "Epoch 6/30: loss train = 32564.331491516987\n",
            "Train accuracy: 0.8061499999999999\n",
            "Epoch 6/30: loss test = 5623.76092580437\n",
            "Test accuracy: 0.7947\n",
            "Epoch 7/30: loss train = 32275.88105378048\n",
            "Train accuracy: 0.8082166666666668\n",
            "Epoch 7/30: loss test = 5580.479400607843\n",
            "Test accuracy: 0.7966\n",
            "Epoch 8/30: loss train = 32002.23148273933\n",
            "Train accuracy: 0.8099833333333335\n",
            "Epoch 8/30: loss test = 5539.50667765365\n",
            "Test accuracy: 0.7981\n",
            "Epoch 9/30: loss train = 31742.367252942953\n",
            "Train accuracy: 0.8119666666666666\n",
            "Epoch 9/30: loss test = 5500.6782600567085\n",
            "Test accuracy: 0.7987\n",
            "Epoch 10/30: loss train = 31495.371060447782\n",
            "Train accuracy: 0.813816666666667\n",
            "Epoch 10/30: loss test = 5463.844607662446\n",
            "Test accuracy: 0.8002\n",
            "Epoch 11/30: loss train = 31260.40798246758\n",
            "Train accuracy: 0.8151333333333333\n",
            "Epoch 11/30: loss test = 5428.869133093598\n",
            "Test accuracy: 0.8016\n",
            "Epoch 12/30: loss train = 31036.71298637588\n",
            "Train accuracy: 0.8166833333333335\n",
            "Epoch 12/30: loss test = 5395.626598800164\n",
            "Test accuracy: 0.8035\n",
            "Epoch 13/30: loss train = 30823.580907713233\n",
            "Train accuracy: 0.8181833333333334\n",
            "Epoch 13/30: loss test = 5364.001799454714\n",
            "Test accuracy: 0.805\n",
            "Epoch 14/30: loss train = 30620.35836044925\n",
            "Train accuracy: 0.8192999999999998\n",
            "Epoch 14/30: loss test = 5333.888461616467\n",
            "Test accuracy: 0.8055\n",
            "Epoch 15/30: loss train = 30426.437234558463\n",
            "Train accuracy: 0.820516666666667\n",
            "Epoch 15/30: loss test = 5305.1883190221915\n",
            "Test accuracy: 0.807\n",
            "Epoch 16/30: loss train = 30241.2495282917\n",
            "Train accuracy: 0.8218333333333335\n",
            "Epoch 16/30: loss test = 5277.8103347078195\n",
            "Test accuracy: 0.8079\n",
            "Epoch 17/30: loss train = 30064.263299206854\n",
            "Train accuracy: 0.823216666666667\n",
            "Epoch 17/30: loss test = 5251.670046556537\n",
            "Test accuracy: 0.8094\n",
            "Epoch 18/30: loss train = 29894.979530694858\n",
            "Train accuracy: 0.8239833333333337\n",
            "Epoch 18/30: loss test = 5226.689015030968\n",
            "Test accuracy: 0.8109\n",
            "Epoch 19/30: loss train = 29732.92971884649\n",
            "Train accuracy: 0.8248666666666669\n",
            "Epoch 19/30: loss test = 5202.794353242951\n",
            "Test accuracy: 0.8112\n",
            "Epoch 20/30: loss train = 29577.67399753661\n",
            "Train accuracy: 0.8257000000000002\n",
            "Epoch 20/30: loss test = 5179.918321275403\n",
            "Test accuracy: 0.8126\n",
            "Epoch 21/30: loss train = 29428.79964011735\n",
            "Train accuracy: 0.826533333333333\n",
            "Epoch 21/30: loss test = 5157.997969074271\n",
            "Test accuracy: 0.8135\n",
            "Epoch 22/30: loss train = 29285.91980267913\n",
            "Train accuracy: 0.8275833333333334\n",
            "Epoch 22/30: loss test = 5136.974815103587\n",
            "Test accuracy: 0.8142\n",
            "Epoch 23/30: loss train = 29148.672403354012\n",
            "Train accuracy: 0.8286333333333337\n",
            "Epoch 23/30: loss test = 5116.794550974292\n",
            "Test accuracy: 0.8152\n",
            "Epoch 24/30: loss train = 29016.719061362473\n",
            "Train accuracy: 0.8293833333333336\n",
            "Epoch 24/30: loss test = 5097.406765101522\n",
            "Test accuracy: 0.8161\n",
            "Epoch 25/30: loss train = 28889.74404589522\n",
            "Train accuracy: 0.8299833333333335\n",
            "Epoch 25/30: loss test = 5078.764680891482\n",
            "Test accuracy: 0.8163\n",
            "Epoch 26/30: loss train = 28767.453206914564\n",
            "Train accuracy: 0.8308833333333336\n",
            "Epoch 26/30: loss test = 5060.824906893904\n",
            "Test accuracy: 0.8172\n",
            "Epoch 27/30: loss train = 28649.572876927738\n",
            "Train accuracy: 0.8312833333333335\n",
            "Epoch 27/30: loss test = 5043.547197759708\n",
            "Test accuracy: 0.8169\n",
            "Epoch 28/30: loss train = 28535.848744823237\n",
            "Train accuracy: 0.8321999999999999\n",
            "Epoch 28/30: loss test = 5026.894225762419\n",
            "Test accuracy: 0.817\n",
            "Epoch 29/30: loss train = 28426.044710542068\n",
            "Train accuracy: 0.8330000000000002\n",
            "Epoch 29/30: loss test = 5010.831363159079\n",
            "Test accuracy: 0.8176\n",
            "Epoch 30/30: loss train = 28319.941733479172\n",
            "Train accuracy: 0.8335833333333335\n",
            "Epoch 30/30: loss test = 4995.326475878811\n",
            "Test accuracy: 0.818\n"
          ]
        }
      ]
    },
    {
      "cell_type": "code",
      "metadata": {
        "colab": {
          "base_uri": "https://localhost:8080/",
          "height": 283
        },
        "id": "Oh3_WTurPXFY",
        "outputId": "4afada5a-c330-427d-b5ed-0e135a697168"
      },
      "source": [
        "plt.plot(np.arange(epoch_count), loss_train)"
      ],
      "execution_count": 148,
      "outputs": [
        {
          "output_type": "execute_result",
          "data": {
            "text/plain": [
              "[<matplotlib.lines.Line2D at 0x7f6f12764c10>]"
            ]
          },
          "metadata": {},
          "execution_count": 148
        },
        {
          "output_type": "display_data",
          "data": {
            "image/png": "[encoded data removed]",
            "text/plain": [
              "<Figure size 432x288 with 1 Axes>"
            ]
          },
          "metadata": {
            "needs_background": "light"
          }
        }
      ]
    },
    {
      "cell_type": "code",
      "metadata": {
        "colab": {
          "base_uri": "https://localhost:8080/",
          "height": 283
        },
        "id": "RyaT0-I4Pa6K",
        "outputId": "08401a7c-b903-4db1-be7e-495cbad6b721"
      },
      "source": [
        "plt.plot(np.arange(epoch_count), loss_test)"
      ],
      "execution_count": 149,
      "outputs": [
        {
          "output_type": "execute_result",
          "data": {
            "text/plain": [
              "[<matplotlib.lines.Line2D at 0x7f6f126d4d10>]"
            ]
          },
          "metadata": {},
          "execution_count": 149
        },
        {
          "output_type": "display_data",
          "data": {
            "image/png": "[encoded data removed]",
            "text/plain": [
              "<Figure size 432x288 with 1 Axes>"
            ]
          },
          "metadata": {
            "needs_background": "light"
          }
        }
      ]
    },
    {
      "cell_type": "code",
      "metadata": {
        "colab": {
          "base_uri": "https://localhost:8080/",
          "height": 285
        },
        "id": "QHXsipcFPdXj",
        "outputId": "a055f48a-8c47-4d7f-aa2e-62edc8ffb8fb"
      },
      "source": [
        "plt.plot(np.arange(epoch_count), accuracy_train)"
      ],
      "execution_count": 150,
      "outputs": [
        {
          "output_type": "execute_result",
          "data": {
            "text/plain": [
              "[<matplotlib.lines.Line2D at 0x7f6f1263d690>]"
            ]
          },
          "metadata": {},
          "execution_count": 150
        },
        {
          "output_type": "display_data",
          "data": {
            "image/png": "[encoded data removed]",
            "text/plain": [
              "<Figure size 432x288 with 1 Axes>"
            ]
          },
          "metadata": {
            "needs_background": "light"
          }
        }
      ]
    },
    {
      "cell_type": "code",
      "metadata": {
        "colab": {
          "base_uri": "https://localhost:8080/",
          "height": 283
        },
        "id": "uz14pY9mPePe",
        "outputId": "4b04446f-46ef-49fb-bae7-d52d297ce264"
      },
      "source": [
        "plt.plot(np.arange(epoch_count), accuracy_test)"
      ],
      "execution_count": 151,
      "outputs": [
        {
          "output_type": "execute_result",
          "data": {
            "text/plain": [
              "[<matplotlib.lines.Line2D at 0x7f6f125b1c50>]"
            ]
          },
          "metadata": {},
          "execution_count": 151
        },
        {
          "output_type": "display_data",
          "data": {
            "image/png": "[encoded data removed]",
            "text/plain": [
              "<Figure size 432x288 with 1 Axes>"
            ]
          },
          "metadata": {
            "needs_background": "light"
          }
        }
      ]
    },
    {
      "cell_type": "markdown",
      "metadata": {
        "id": "9Ef7caZ3M1Ml"
      },
      "source": [
        "#Part 4"
      ]
    },
    {
      "cell_type": "code",
      "metadata": {
        "id": "YZWBUpgWM2JN"
      },
      "source": [
        "class Model():\n",
        "    def __init__(self, layers, cost):\n",
        "        self.layers = layers\n",
        "        self.cost = cost\n",
        "\n",
        "    def forward(self,x):\n",
        "        for layer in self.layers:\n",
        "            x = layer.forward(x)\n",
        "        return x\n",
        "\n",
        "    def loss(self,x,y):\n",
        "        self.output = self.forward(x)\n",
        "        return self.cost.forward(self.output,y)\n",
        "\n",
        "    def backward(self):\n",
        "        grad = self.cost.backward()\n",
        "        for i in range(len(self.layers)-1,-1,-1):\n",
        "            grad = self.layers[i].backward(grad)\n",
        "    \n",
        "    def step(self,lr):\n",
        "        for layer in self.layers:\n",
        "                if type(layer) == Linear:\n",
        "                    layer.previous = lr* layer.grad_w +momentum_rate*layer.previous\n",
        "                    layer.weights -= layer.previous\n",
        "                    layer.biases -= lr * layer.grad_b\n",
        "\n",
        "    def calculate_accuracy(self, real):\n",
        "        predictedNumber = np.argmax(self.output,axis=1)\n",
        "        realNumber = np.argmax(real,axis=1)\n",
        "        return np.mean(predictedNumber == realNumber)\n",
        "\n",
        "\n",
        "def train_momentum(model,lr,nb_epoch,data,label,batch_size=1000):\n",
        "    loss_train = []\n",
        "    loss_test = []\n",
        "\n",
        "    accuracy_train = []\n",
        "    accuracy_test = []\n",
        "    for epoch in range(nb_epoch):\n",
        "        lr = lr * 0.99\n",
        "        if lr < 1e-3:\n",
        "            lr = 1e-3\n",
        "\n",
        "        num_inputs = 0\n",
        "        running_loss = 0\n",
        "        accuracy = 0\n",
        "\n",
        "        number_of_batches = int(data.shape[0]/batch_size)\n",
        "        for i in range(number_of_batches):\n",
        "            input = data[i*batch_size:(i+1)*batch_size]\n",
        "            output = label[i*batch_size:(i+1)*batch_size]\n",
        "            num_inputs += input.shape[0]\n",
        "            running_loss += model.loss(input,output).sum()\n",
        "            model.backward()\n",
        "\n",
        "            accuracy += model.calculate_accuracy(output)\n",
        "            model.step(lr)\n",
        "            \n",
        "        print(f'Epoch {epoch+1}/{nb_epoch}: loss train = {running_loss}')\n",
        "        print(f'Train accuracy: {accuracy/number_of_batches}')\n",
        "\n",
        "        loss_test_current = model.loss(data_test,target_test).sum()\n",
        "        print(f'Epoch {epoch+1}/{nb_epoch}: loss test = {loss_test_current}')\n",
        "        accuracy_current_test= model.calculate_accuracy(target_test)\n",
        "        print(f'Test accuracy: {accuracy_current_test}')\n",
        "\n",
        "        loss_train.append(running_loss)\n",
        "        loss_test.append(loss_test_current)\n",
        "        \n",
        "        accuracy_train.append(accuracy/number_of_batches)\n",
        "        accuracy_test.append(accuracy_current_test)\n",
        "    return loss_train,loss_test,accuracy_train,accuracy_test"
      ],
      "execution_count": 179,
      "outputs": []
    },
    {
      "cell_type": "code",
      "metadata": {
        "colab": {
          "base_uri": "https://localhost:8080/"
        },
        "id": "x9Kj2kzZM34Z",
        "outputId": "6148ef95-5716-4bee-ca0a-c3e50c06afeb"
      },
      "source": [
        "net = Model([Linear(784,128,True), Sigmoid(), Linear(128,64,True), Sigmoid(), Linear(64,10,True), Softmax()], CrossEntropy())\n",
        "epoch_count = 30\n",
        "loss_train,loss_test,accuracy_train,accuracy_test = train_momentum(net,1e-1,epoch_count,data_train,target_train)"
      ],
      "execution_count": 180,
      "outputs": [
        {
          "output_type": "stream",
          "name": "stdout",
          "text": [
            "Epoch 1/30: loss train = 103761.94796602237\n",
            "Train accuracy: 0.3747833333333334\n",
            "Epoch 1/30: loss test = 11689.498285159467\n",
            "Test accuracy: 0.538\n",
            "Epoch 2/30: loss train = 58272.40424204931\n",
            "Train accuracy: 0.6165\n",
            "Epoch 2/30: loss test = 9527.279536904098\n",
            "Test accuracy: 0.6295\n",
            "Epoch 3/30: loss train = 46150.98579169021\n",
            "Train accuracy: 0.6966333333333334\n",
            "Epoch 3/30: loss test = 7587.40233664309\n",
            "Test accuracy: 0.7029\n",
            "Epoch 4/30: loss train = 41056.18575142075\n",
            "Train accuracy: 0.7314666666666665\n",
            "Epoch 4/30: loss test = 7156.556337217709\n",
            "Test accuracy: 0.729\n",
            "Epoch 5/30: loss train = 38149.82667771503\n",
            "Train accuracy: 0.7510833333333333\n",
            "Epoch 5/30: loss test = 6572.531684206939\n",
            "Test accuracy: 0.7462\n",
            "Epoch 6/30: loss train = 35604.57046914616\n",
            "Train accuracy: 0.7713333333333338\n",
            "Epoch 6/30: loss test = 5814.691801247\n",
            "Test accuracy: 0.7793\n",
            "Epoch 7/30: loss train = 34009.61060029159\n",
            "Train accuracy: 0.7833666666666667\n",
            "Epoch 7/30: loss test = 5458.487971309901\n",
            "Test accuracy: 0.7955\n",
            "Epoch 8/30: loss train = 32813.69166456551\n",
            "Train accuracy: 0.7946333333333334\n",
            "Epoch 8/30: loss test = 6009.993532053346\n",
            "Test accuracy: 0.7773\n",
            "Epoch 9/30: loss train = 32275.19084573284\n",
            "Train accuracy: 0.7980999999999998\n",
            "Epoch 9/30: loss test = 5226.966779154435\n",
            "Test accuracy: 0.8034\n",
            "Epoch 10/30: loss train = 31000.030595849257\n",
            "Train accuracy: 0.8076666666666665\n",
            "Epoch 10/30: loss test = 5726.385985353482\n",
            "Test accuracy: 0.7803\n",
            "Epoch 11/30: loss train = 29855.372698577157\n",
            "Train accuracy: 0.8162333333333334\n",
            "Epoch 11/30: loss test = 5846.988979506997\n",
            "Test accuracy: 0.7754\n",
            "Epoch 12/30: loss train = 29300.90003255\n",
            "Train accuracy: 0.8196166666666667\n",
            "Epoch 12/30: loss test = 5221.322454483814\n",
            "Test accuracy: 0.8049\n",
            "Epoch 13/30: loss train = 29285.494567831876\n",
            "Train accuracy: 0.8199666666666665\n",
            "Epoch 13/30: loss test = 4990.5608097932545\n",
            "Test accuracy: 0.8124\n",
            "Epoch 14/30: loss train = 28366.30472880257\n",
            "Train accuracy: 0.8259333333333335\n",
            "Epoch 14/30: loss test = 4888.639831028579\n",
            "Test accuracy: 0.8213\n",
            "Epoch 15/30: loss train = 27717.817467901965\n",
            "Train accuracy: 0.8301666666666668\n",
            "Epoch 15/30: loss test = 4860.8972437192215\n",
            "Test accuracy: 0.8182\n",
            "Epoch 16/30: loss train = 27116.76668743817\n",
            "Train accuracy: 0.8342500000000003\n",
            "Epoch 16/30: loss test = 4612.4464375894395\n",
            "Test accuracy: 0.8329\n",
            "Epoch 17/30: loss train = 26390.402952827724\n",
            "Train accuracy: 0.8392666666666666\n",
            "Epoch 17/30: loss test = 4596.484309709349\n",
            "Test accuracy: 0.8337\n",
            "Epoch 18/30: loss train = 26068.86815108737\n",
            "Train accuracy: 0.8413333333333334\n",
            "Epoch 18/30: loss test = 4539.911092383581\n",
            "Test accuracy: 0.8351\n",
            "Epoch 19/30: loss train = 25661.87665136205\n",
            "Train accuracy: 0.8440999999999996\n",
            "Epoch 19/30: loss test = 4504.444635118725\n",
            "Test accuracy: 0.8355\n",
            "Epoch 20/30: loss train = 25340.22516857293\n",
            "Train accuracy: 0.8462166666666664\n",
            "Epoch 20/30: loss test = 4430.968041304\n",
            "Test accuracy: 0.8404\n",
            "Epoch 21/30: loss train = 25984.311502511213\n",
            "Train accuracy: 0.8413166666666665\n",
            "Epoch 21/30: loss test = 4519.952104775767\n",
            "Test accuracy: 0.832\n",
            "Epoch 22/30: loss train = 25441.60161612542\n",
            "Train accuracy: 0.8435833333333334\n",
            "Epoch 22/30: loss test = 4340.280456569409\n",
            "Test accuracy: 0.8414\n",
            "Epoch 23/30: loss train = 24852.244826296108\n",
            "Train accuracy: 0.8480333333333332\n",
            "Epoch 23/30: loss test = 4491.007500768186\n",
            "Test accuracy: 0.8311\n",
            "Epoch 24/30: loss train = 24582.163285242055\n",
            "Train accuracy: 0.8493333333333334\n",
            "Epoch 24/30: loss test = 4348.987067474437\n",
            "Test accuracy: 0.8406\n",
            "Epoch 25/30: loss train = 24477.176135132024\n",
            "Train accuracy: 0.85015\n",
            "Epoch 25/30: loss test = 4510.567816994593\n",
            "Test accuracy: 0.8295\n",
            "Epoch 26/30: loss train = 24054.759123205233\n",
            "Train accuracy: 0.8529833333333331\n",
            "Epoch 26/30: loss test = 4303.107095474756\n",
            "Test accuracy: 0.8426\n",
            "Epoch 27/30: loss train = 23906.170405875644\n",
            "Train accuracy: 0.8536166666666664\n",
            "Epoch 27/30: loss test = 4419.326099768561\n",
            "Test accuracy: 0.8321\n",
            "Epoch 28/30: loss train = 23537.280939203625\n",
            "Train accuracy: 0.8561166666666665\n",
            "Epoch 28/30: loss test = 4261.2626447180155\n",
            "Test accuracy: 0.8446\n",
            "Epoch 29/30: loss train = 23469.761025458978\n",
            "Train accuracy: 0.8566166666666667\n",
            "Epoch 29/30: loss test = 4350.221229163766\n",
            "Test accuracy: 0.8349\n",
            "Epoch 30/30: loss train = 23102.820436305625\n",
            "Train accuracy: 0.8586333333333334\n",
            "Epoch 30/30: loss test = 4222.560625831047\n",
            "Test accuracy: 0.8442\n"
          ]
        }
      ]
    },
    {
      "cell_type": "code",
      "metadata": {
        "colab": {
          "base_uri": "https://localhost:8080/",
          "height": 283
        },
        "id": "rl7CUIjRc3yL",
        "outputId": "dd34984e-dc31-496e-81e7-87ddd2e79f22"
      },
      "source": [
        "plt.plot(np.arange(epoch_count), loss_train)"
      ],
      "execution_count": 181,
      "outputs": [
        {
          "output_type": "execute_result",
          "data": {
            "text/plain": [
              "[<matplotlib.lines.Line2D at 0x7f6f1b4ec690>]"
            ]
          },
          "metadata": {},
          "execution_count": 181
        },
        {
          "output_type": "display_data",
          "data": {
            "image/png": "[encoded data removed]",
            "text/plain": [
              "<Figure size 432x288 with 1 Axes>"
            ]
          },
          "metadata": {
            "needs_background": "light"
          }
        }
      ]
    },
    {
      "cell_type": "code",
      "metadata": {
        "colab": {
          "base_uri": "https://localhost:8080/",
          "height": 286
        },
        "id": "jNVgv8-Dc6qQ",
        "outputId": "3be11ac2-3431-451b-900c-71c6917bd05a"
      },
      "source": [
        "plt.plot(np.arange(epoch_count), loss_test)"
      ],
      "execution_count": 182,
      "outputs": [
        {
          "output_type": "execute_result",
          "data": {
            "text/plain": [
              "[<matplotlib.lines.Line2D at 0x7f6f1b425090>]"
            ]
          },
          "metadata": {},
          "execution_count": 182
        },
        {
          "output_type": "display_data",
          "data": {
            "image/png": "[encoded data removed]",
            "text/plain": [
              "<Figure size 432x288 with 1 Axes>"
            ]
          },
          "metadata": {
            "needs_background": "light"
          }
        }
      ]
    },
    {
      "cell_type": "code",
      "metadata": {
        "colab": {
          "base_uri": "https://localhost:8080/",
          "height": 283
        },
        "id": "_9IlFBUrc_Ct",
        "outputId": "5bbaf060-02aa-4c1b-b75e-4ca7845d02ae"
      },
      "source": [
        "plt.plot(np.arange(epoch_count), accuracy_train)"
      ],
      "execution_count": 183,
      "outputs": [
        {
          "output_type": "execute_result",
          "data": {
            "text/plain": [
              "[<matplotlib.lines.Line2D at 0x7f6f1b3b9810>]"
            ]
          },
          "metadata": {},
          "execution_count": 183
        },
        {
          "output_type": "display_data",
          "data": {
            "image/png": "[encoded data removed]",
            "text/plain": [
              "<Figure size 432x288 with 1 Axes>"
            ]
          },
          "metadata": {
            "needs_background": "light"
          }
        }
      ]
    },
    {
      "cell_type": "code",
      "metadata": {
        "colab": {
          "base_uri": "https://localhost:8080/",
          "height": 283
        },
        "id": "KTflAO02dBYv",
        "outputId": "c1724581-c3ed-47a0-ae8d-d7204b20a264"
      },
      "source": [
        "plt.plot(np.arange(epoch_count), accuracy_test)"
      ],
      "execution_count": 184,
      "outputs": [
        {
          "output_type": "execute_result",
          "data": {
            "text/plain": [
              "[<matplotlib.lines.Line2D at 0x7f6f121fb790>]"
            ]
          },
          "metadata": {},
          "execution_count": 184
        },
        {
          "output_type": "display_data",
          "data": {
            "image/png": "[encoded data removed]",
            "text/plain": [
              "<Figure size 432x288 with 1 Axes>"
            ]
          },
          "metadata": {
            "needs_background": "light"
          }
        }
      ]
    },
    {
      "cell_type": "markdown",
      "metadata": {
        "id": "2Mtkbsqjc6An"
      },
      "source": [
        ""
      ]
    },
    {
      "cell_type": "markdown",
      "metadata": {
        "id": "K0OZypgAM4UK"
      },
      "source": [
        "#Part 5"
      ]
    },
    {
      "cell_type": "code",
      "metadata": {
        "colab": {
          "base_uri": "https://localhost:8080/"
        },
        "id": "J0zLs5FwM5OK",
        "outputId": "a9a76ad7-a46f-42de-9bd5-06c335ed9b83"
      },
      "source": [
        "net = Model([Linear(784,128), Sigmoid(), Linear(128,64), Sigmoid(), Linear(64,64), Sigmoid(), Linear(64,10), Softmax()], CrossEntropy())\n",
        "epoch_count = 30\n",
        "loss_train,loss_test,accuracy_train,accuracy_test = train(net,1e-1,epoch_count,data_train,target_train)"
      ],
      "execution_count": 158,
      "outputs": [
        {
          "output_type": "stream",
          "name": "stdout",
          "text": [
            "Epoch 1/30: loss train = 138585.16783004766\n",
            "Train accuracy: 0.17660000000000003\n",
            "Epoch 1/30: loss test = 22762.64773987977\n",
            "Test accuracy: 0.2118\n",
            "Epoch 2/30: loss train = 135560.2365353218\n",
            "Train accuracy: 0.2977166666666667\n",
            "Epoch 2/30: loss test = 22382.228178991583\n",
            "Test accuracy: 0.3337\n",
            "Epoch 3/30: loss train = 132365.951542139\n",
            "Train accuracy: 0.3427333333333334\n",
            "Epoch 3/30: loss test = 21645.577227901616\n",
            "Test accuracy: 0.3456\n",
            "Epoch 4/30: loss train = 126037.53291557218\n",
            "Train accuracy: 0.3608500000000001\n",
            "Epoch 4/30: loss test = 20229.266243685433\n",
            "Test accuracy: 0.3469\n",
            "Epoch 5/30: loss train = 115819.46039339514\n",
            "Train accuracy: 0.38485\n",
            "Epoch 5/30: loss test = 18383.926078942066\n",
            "Test accuracy: 0.3973\n",
            "Epoch 6/30: loss train = 105550.65833693123\n",
            "Train accuracy: 0.4200333333333332\n",
            "Epoch 6/30: loss test = 16907.74045055039\n",
            "Test accuracy: 0.4585\n",
            "Epoch 7/30: loss train = 97911.1664760458\n",
            "Train accuracy: 0.46083333333333343\n",
            "Epoch 7/30: loss test = 15818.818293374112\n",
            "Test accuracy: 0.4981\n",
            "Epoch 8/30: loss train = 91937.08297539396\n",
            "Train accuracy: 0.50315\n",
            "Epoch 8/30: loss test = 14915.925281496035\n",
            "Test accuracy: 0.5319\n",
            "Epoch 9/30: loss train = 86844.825416397\n",
            "Train accuracy: 0.53845\n",
            "Epoch 9/30: loss test = 14134.816090919361\n",
            "Test accuracy: 0.5542\n",
            "Epoch 10/30: loss train = 82420.77233244957\n",
            "Train accuracy: 0.5630499999999999\n",
            "Epoch 10/30: loss test = 13453.345091126657\n",
            "Test accuracy: 0.5694\n",
            "Epoch 11/30: loss train = 78543.79782535035\n",
            "Train accuracy: 0.5785666666666667\n",
            "Epoch 11/30: loss test = 12851.956481709045\n",
            "Test accuracy: 0.5802\n",
            "Epoch 12/30: loss train = 75113.73502583563\n",
            "Train accuracy: 0.5904333333333333\n",
            "Epoch 12/30: loss test = 12317.988602593487\n",
            "Test accuracy: 0.5897\n",
            "Epoch 13/30: loss train = 72077.86746367218\n",
            "Train accuracy: 0.5990333333333333\n",
            "Epoch 13/30: loss test = 11846.80038974688\n",
            "Test accuracy: 0.5971\n",
            "Epoch 14/30: loss train = 69414.31090835358\n",
            "Train accuracy: 0.6063166666666664\n",
            "Epoch 14/30: loss test = 11435.466236576582\n",
            "Test accuracy: 0.6046\n",
            "Epoch 15/30: loss train = 67093.61227173633\n",
            "Train accuracy: 0.6133500000000001\n",
            "Epoch 15/30: loss test = 11077.381948455151\n",
            "Test accuracy: 0.6127\n",
            "Epoch 16/30: loss train = 65063.677383283575\n",
            "Train accuracy: 0.6206833333333335\n",
            "Epoch 16/30: loss test = 10762.606858764037\n",
            "Test accuracy: 0.6184\n",
            "Epoch 17/30: loss train = 63262.05335185032\n",
            "Train accuracy: 0.6285333333333333\n",
            "Epoch 17/30: loss test = 10480.876838989785\n",
            "Test accuracy: 0.6267\n",
            "Epoch 18/30: loss train = 61631.878124954506\n",
            "Train accuracy: 0.6358833333333332\n",
            "Epoch 18/30: loss test = 10223.642812593505\n",
            "Test accuracy: 0.6336\n",
            "Epoch 19/30: loss train = 60129.12563321756\n",
            "Train accuracy: 0.6437333333333336\n",
            "Epoch 19/30: loss test = 9984.603493831346\n",
            "Test accuracy: 0.6402\n",
            "Epoch 20/30: loss train = 58722.97637278881\n",
            "Train accuracy: 0.6518833333333337\n",
            "Epoch 20/30: loss test = 9759.49189162154\n",
            "Test accuracy: 0.6515\n",
            "Epoch 21/30: loss train = 57393.5609399073\n",
            "Train accuracy: 0.6589999999999999\n",
            "Epoch 21/30: loss test = 9545.661567798636\n",
            "Test accuracy: 0.6595\n",
            "Epoch 22/30: loss train = 56129.1796259991\n",
            "Train accuracy: 0.6665\n",
            "Epoch 22/30: loss test = 9341.65331099526\n",
            "Test accuracy: 0.668\n",
            "Epoch 23/30: loss train = 54923.61518621588\n",
            "Train accuracy: 0.6737666666666666\n",
            "Epoch 23/30: loss test = 9146.779617459799\n",
            "Test accuracy: 0.6754\n",
            "Epoch 24/30: loss train = 53773.80243367801\n",
            "Train accuracy: 0.6803666666666666\n",
            "Epoch 24/30: loss test = 8960.76117081728\n",
            "Test accuracy: 0.6849\n",
            "Epoch 25/30: loss train = 52678.09744758627\n",
            "Train accuracy: 0.6871666666666669\n",
            "Epoch 25/30: loss test = 8783.46252907259\n",
            "Test accuracy: 0.6954\n",
            "Epoch 26/30: loss train = 51635.22966015136\n",
            "Train accuracy: 0.6943833333333334\n",
            "Epoch 26/30: loss test = 8614.743588202917\n",
            "Test accuracy: 0.7007\n",
            "Epoch 27/30: loss train = 50643.786053397365\n",
            "Train accuracy: 0.7004666666666667\n",
            "Epoch 27/30: loss test = 8454.39890020202\n",
            "Test accuracy: 0.7074\n",
            "Epoch 28/30: loss train = 49702.00319966678\n",
            "Train accuracy: 0.7054499999999998\n",
            "Epoch 28/30: loss test = 8302.145242952021\n",
            "Test accuracy: 0.7131\n",
            "Epoch 29/30: loss train = 48807.729850920936\n",
            "Train accuracy: 0.7116499999999996\n",
            "Epoch 29/30: loss test = 8157.633206340808\n",
            "Test accuracy: 0.7186\n",
            "Epoch 30/30: loss train = 47958.50888564728\n",
            "Train accuracy: 0.7166999999999999\n",
            "Epoch 30/30: loss test = 8020.472592466269\n",
            "Test accuracy: 0.7217\n"
          ]
        }
      ]
    },
    {
      "cell_type": "code",
      "metadata": {
        "colab": {
          "base_uri": "https://localhost:8080/",
          "height": 283
        },
        "id": "OejT5zNnTAB1",
        "outputId": "e294d090-3187-409f-81b6-c49113774e3c"
      },
      "source": [
        "plt.plot(np.arange(epoch_count), loss_train)"
      ],
      "execution_count": 159,
      "outputs": [
        {
          "output_type": "execute_result",
          "data": {
            "text/plain": [
              "[<matplotlib.lines.Line2D at 0x7f6f12395610>]"
            ]
          },
          "metadata": {},
          "execution_count": 159
        },
        {
          "output_type": "display_data",
          "data": {
            "image/png": "[encoded data removed]",
            "text/plain": [
              "<Figure size 432x288 with 1 Axes>"
            ]
          },
          "metadata": {
            "needs_background": "light"
          }
        }
      ]
    },
    {
      "cell_type": "code",
      "metadata": {
        "colab": {
          "base_uri": "https://localhost:8080/",
          "height": 283
        },
        "id": "-cny-WS1TCrK",
        "outputId": "f373cccd-ae93-4ca7-b523-842922205ce2"
      },
      "source": [
        "plt.plot(np.arange(epoch_count), loss_test)"
      ],
      "execution_count": 160,
      "outputs": [
        {
          "output_type": "execute_result",
          "data": {
            "text/plain": [
              "[<matplotlib.lines.Line2D at 0x7f6f122f9810>]"
            ]
          },
          "metadata": {},
          "execution_count": 160
        },
        {
          "output_type": "display_data",
          "data": {
            "image/png": "[encoded data removed]",
            "text/plain": [
              "<Figure size 432x288 with 1 Axes>"
            ]
          },
          "metadata": {
            "needs_background": "light"
          }
        }
      ]
    },
    {
      "cell_type": "code",
      "metadata": {
        "colab": {
          "base_uri": "https://localhost:8080/",
          "height": 283
        },
        "id": "dpFR6JyGTELs",
        "outputId": "4201f8f4-1071-4427-ce19-a4cf4640743d"
      },
      "source": [
        "plt.plot(np.arange(epoch_count), accuracy_train)"
      ],
      "execution_count": 161,
      "outputs": [
        {
          "output_type": "execute_result",
          "data": {
            "text/plain": [
              "[<matplotlib.lines.Line2D at 0x7f6f1282af50>]"
            ]
          },
          "metadata": {},
          "execution_count": 161
        },
        {
          "output_type": "display_data",
          "data": {
            "image/png": "[encoded data removed]",
            "text/plain": [
              "<Figure size 432x288 with 1 Axes>"
            ]
          },
          "metadata": {
            "needs_background": "light"
          }
        }
      ]
    },
    {
      "cell_type": "code",
      "metadata": {
        "colab": {
          "base_uri": "https://localhost:8080/",
          "height": 283
        },
        "id": "CjjAecn6TG2C",
        "outputId": "87ba5b6e-515c-4bc7-c6a4-7213ea8abf81"
      },
      "source": [
        "plt.plot(np.arange(epoch_count), accuracy_test)"
      ],
      "execution_count": 162,
      "outputs": [
        {
          "output_type": "execute_result",
          "data": {
            "text/plain": [
              "[<matplotlib.lines.Line2D at 0x7f6f125d3110>]"
            ]
          },
          "metadata": {},
          "execution_count": 162
        },
        {
          "output_type": "display_data",
          "data": {
            "image/png": "[encoded data removed]",
            "text/plain": [
              "<Figure size 432x288 with 1 Axes>"
            ]
          },
          "metadata": {
            "needs_background": "light"
          }
        }
      ]
    },
    {
      "cell_type": "markdown",
      "metadata": {
        "id": "DlTOph3pM5xa"
      },
      "source": [
        "#Part 6"
      ]
    },
    {
      "cell_type": "code",
      "metadata": {
        "id": "yc7SFX8zM64E"
      },
      "source": [
        "import numpy as np\n",
        "import torch\n",
        "import torchvision\n",
        "import matplotlib.pyplot as plt\n",
        "from time import time\n",
        "from torchvision import datasets, transforms\n",
        "from torch import nn, optim"
      ],
      "execution_count": 218,
      "outputs": []
    },
    {
      "cell_type": "code",
      "metadata": {
        "colab": {
          "base_uri": "https://localhost:8080/"
        },
        "id": "MBzOTs7XZ6Nj",
        "outputId": "d07c5953-703a-437d-b076-e1d3b16ce182"
      },
      "source": [
        "transform = transforms.Compose([transforms.ToTensor(),\n",
        "                              transforms.Normalize((0.5,), (0.5,)),\n",
        "                              ])\n",
        "trainset = datasets.FashionMNIST(root=\"./data\", download=True, train=True, transform=transform)\n",
        "valset = datasets.FashionMNIST(root=\"./data\", download=True, train=False, transform=transform)\n",
        "trainloader = torch.utils.data.DataLoader(trainset, batch_size=64, shuffle=True)\n",
        "valloader = torch.utils.data.DataLoader(valset, batch_size=64, shuffle=True)\n",
        "\n",
        "input_size = 784\n",
        "hidden_sizes = [128, 64]\n",
        "output_size = 10\n",
        "\n",
        "model = nn.Sequential(nn.Linear(input_size, hidden_sizes[0]),\n",
        "                      nn.Sigmoid(),\n",
        "                      nn.Linear(hidden_sizes[0], hidden_sizes[1]),\n",
        "                      nn.Sigmoid(),\n",
        "                      nn.Linear(hidden_sizes[1], output_size),\n",
        "                      nn.Softmax(dim=1))\n",
        "print(model)"
      ],
      "execution_count": 219,
      "outputs": [
        {
          "output_type": "stream",
          "name": "stdout",
          "text": [
            "Sequential(\n",
            "  (0): Linear(in_features=784, out_features=128, bias=True)\n",
            "  (1): Sigmoid()\n",
            "  (2): Linear(in_features=128, out_features=64, bias=True)\n",
            "  (3): Sigmoid()\n",
            "  (4): Linear(in_features=64, out_features=10, bias=True)\n",
            "  (5): Softmax(dim=1)\n",
            ")\n"
          ]
        }
      ]
    },
    {
      "cell_type": "code",
      "metadata": {
        "id": "fJKHTAYTcMv1"
      },
      "source": [
        "criterion = nn.CrossEntropyLoss()\n",
        "images, labels = next(iter(trainloader))\n",
        "images = images.view(images.shape[0], -1)\n",
        "\n",
        "logps = model(images) \n",
        "loss = criterion(logps, labels)"
      ],
      "execution_count": 220,
      "outputs": []
    },
    {
      "cell_type": "code",
      "metadata": {
        "colab": {
          "base_uri": "https://localhost:8080/"
        },
        "id": "4rkBcrSJcSrU",
        "outputId": "dcb8aea9-98b8-4269-d7a1-d32d8be0ec08"
      },
      "source": [
        "optimizer = optim.SGD(model.parameters(), lr=0.03)\n",
        "time0 = time()\n",
        "\n",
        "loss_train = []\n",
        "accuracy_train = []\n",
        "accuracy_test = []\n",
        "\n",
        "epochs = 15\n",
        "for e in range(epochs):\n",
        "    running_loss = 0\n",
        "    for images, labels in trainloader:\n",
        "        images = images.view(images.shape[0], -1)\n",
        "        optimizer.zero_grad()\n",
        "        output = model(images)\n",
        "        loss = criterion(output, labels)\n",
        "        \n",
        "        loss.backward()\n",
        "        \n",
        "        optimizer.step()\n",
        "        \n",
        "        running_loss += loss.item()\n",
        "    else:\n",
        "        print(\"Epoch {} - Training loss: {}\".format(e, running_loss/len(trainloader)))\n",
        "        loss_train.append(running_loss)\n",
        "        accuracy_train.append(calculate_accuracy(trainloader,'train'))\n",
        "        accuracy_test.append(calculate_accuracy(valloader,'test'))\n",
        "\n",
        "\n",
        "print(\"\\nTraining Time (in minutes) =\",(time()-time0)/60)"
      ],
      "execution_count": 221,
      "outputs": [
        {
          "output_type": "stream",
          "name": "stdout",
          "text": [
            "Epoch 0 - Training loss: 2.3021124784372002\n",
            "Number Of Images Tested = 60000\n",
            "\n",
            "Model Accuracy for train= 0.12763333333333332\n",
            "Number Of Images Tested = 10000\n",
            "\n",
            "Model Accuracy for test= 0.1302\n",
            "Epoch 1 - Training loss: 2.300212318709156\n",
            "Number Of Images Tested = 60000\n",
            "\n",
            "Model Accuracy for train= 0.10668333333333334\n",
            "Number Of Images Tested = 10000\n",
            "\n",
            "Model Accuracy for test= 0.1069\n",
            "Epoch 2 - Training loss: 2.297341703860236\n",
            "Number Of Images Tested = 60000\n",
            "\n",
            "Model Accuracy for train= 0.11051666666666667\n",
            "Number Of Images Tested = 10000\n",
            "\n",
            "Model Accuracy for test= 0.1097\n",
            "Epoch 3 - Training loss: 2.2911456797931242\n",
            "Number Of Images Tested = 60000\n",
            "\n",
            "Model Accuracy for train= 0.13371666666666668\n",
            "Number Of Images Tested = 10000\n",
            "\n",
            "Model Accuracy for test= 0.1314\n",
            "Epoch 4 - Training loss: 2.2720074648541937\n",
            "Number Of Images Tested = 60000\n",
            "\n",
            "Model Accuracy for train= 0.22395\n",
            "Number Of Images Tested = 10000\n",
            "\n",
            "Model Accuracy for test= 0.222\n",
            "Epoch 5 - Training loss: 2.231057080124487\n",
            "Number Of Images Tested = 60000\n",
            "\n",
            "Model Accuracy for train= 0.27018333333333333\n",
            "Number Of Images Tested = 10000\n",
            "\n",
            "Model Accuracy for test= 0.2688\n",
            "Epoch 6 - Training loss: 2.186424291210134\n",
            "Number Of Images Tested = 60000\n",
            "\n",
            "Model Accuracy for train= 0.28396666666666665\n",
            "Number Of Images Tested = 10000\n",
            "\n",
            "Model Accuracy for test= 0.2843\n",
            "Epoch 7 - Training loss: 2.1435922488474897\n",
            "Number Of Images Tested = 60000\n",
            "\n",
            "Model Accuracy for train= 0.34896666666666665\n",
            "Number Of Images Tested = 10000\n",
            "\n",
            "Model Accuracy for test= 0.3498\n",
            "Epoch 8 - Training loss: 2.0989299757140025\n",
            "Number Of Images Tested = 60000\n",
            "\n",
            "Model Accuracy for train= 0.4417333333333333\n",
            "Number Of Images Tested = 10000\n",
            "\n",
            "Model Accuracy for test= 0.4409\n",
            "Epoch 9 - Training loss: 2.054632861095705\n",
            "Number Of Images Tested = 60000\n",
            "\n",
            "Model Accuracy for train= 0.4580166666666667\n",
            "Number Of Images Tested = 10000\n",
            "\n",
            "Model Accuracy for test= 0.4559\n",
            "Epoch 10 - Training loss: 2.016046718874974\n",
            "Number Of Images Tested = 60000\n",
            "\n",
            "Model Accuracy for train= 0.5089166666666667\n",
            "Number Of Images Tested = 10000\n",
            "\n",
            "Model Accuracy for test= 0.5086\n",
            "Epoch 11 - Training loss: 1.9852302403592352\n",
            "Number Of Images Tested = 60000\n",
            "\n",
            "Model Accuracy for train= 0.5230333333333334\n",
            "Number Of Images Tested = 10000\n",
            "\n",
            "Model Accuracy for test= 0.5248\n",
            "Epoch 12 - Training loss: 1.9615087304542314\n",
            "Number Of Images Tested = 60000\n",
            "\n",
            "Model Accuracy for train= 0.5348833333333334\n",
            "Number Of Images Tested = 10000\n",
            "\n",
            "Model Accuracy for test= 0.5356\n",
            "Epoch 13 - Training loss: 1.932801732630618\n",
            "Number Of Images Tested = 60000\n",
            "\n",
            "Model Accuracy for train= 0.6055666666666667\n",
            "Number Of Images Tested = 10000\n",
            "\n",
            "Model Accuracy for test= 0.605\n",
            "Epoch 14 - Training loss: 1.9018612763266574\n",
            "Number Of Images Tested = 60000\n",
            "\n",
            "Model Accuracy for train= 0.6156333333333334\n",
            "Number Of Images Tested = 10000\n",
            "\n",
            "Model Accuracy for test= 0.6143\n",
            "\n",
            "Training Time (in minutes) = 6.454254253705343\n"
          ]
        }
      ]
    },
    {
      "cell_type": "code",
      "metadata": {
        "id": "7d2gXgfVcYol"
      },
      "source": [
        "def calculate_accuracy(loader,label):  \n",
        "    correct_count, all_count = 0, 0\n",
        "    for images,labels in loader:\n",
        "        for i in range(len(labels)):\n",
        "            img = images[i].view(1, 784)\n",
        "            with torch.no_grad():\n",
        "                logps = model(img)\n",
        "\n",
        "            \n",
        "            ps = torch.exp(logps)\n",
        "            probab = list(ps.numpy()[0])\n",
        "            pred_label = probab.index(max(probab))\n",
        "            true_label = labels.numpy()[i]\n",
        "            if(true_label == pred_label):\n",
        "                correct_count += 1\n",
        "            all_count += 1\n",
        "\n",
        "    print(\"Number Of Images Tested =\", all_count)\n",
        "    print(\"\\nModel Accuracy for \" + label +\"=\", (correct_count/all_count))\n",
        "    return correct_count/all_count"
      ],
      "execution_count": 222,
      "outputs": []
    },
    {
      "cell_type": "code",
      "metadata": {
        "id": "n8z0jq64gPXv"
      },
      "source": [
        ""
      ],
      "execution_count": 222,
      "outputs": []
    },
    {
      "cell_type": "code",
      "metadata": {
        "colab": {
          "base_uri": "https://localhost:8080/"
        },
        "id": "OQ7jN0uVgYWI",
        "outputId": "fd993fb5-8022-4ac4-9114-2f21375e203a"
      },
      "source": [
        "calculate_accuracy(valloader,'test')"
      ],
      "execution_count": 223,
      "outputs": [
        {
          "output_type": "stream",
          "name": "stdout",
          "text": [
            "Number Of Images Tested = 10000\n",
            "\n",
            "Model Accuracy for test= 0.6143\n"
          ]
        },
        {
          "output_type": "execute_result",
          "data": {
            "text/plain": [
              "0.6143"
            ]
          },
          "metadata": {},
          "execution_count": 223
        }
      ]
    },
    {
      "cell_type": "code",
      "metadata": {
        "colab": {
          "base_uri": "https://localhost:8080/",
          "height": 283
        },
        "id": "XicZJdHTgjBx",
        "outputId": "1124b5ed-c16d-4598-b05b-b6610d26c54a"
      },
      "source": [
        "plt.plot(np.arange(15), loss_train)"
      ],
      "execution_count": 224,
      "outputs": [
        {
          "output_type": "execute_result",
          "data": {
            "text/plain": [
              "[<matplotlib.lines.Line2D at 0x7f6f1130f650>]"
            ]
          },
          "metadata": {},
          "execution_count": 224
        },
        {
          "output_type": "display_data",
          "data": {
            "image/png": "[encoded data removed]",
            "text/plain": [
              "<Figure size 432x288 with 1 Axes>"
            ]
          },
          "metadata": {
            "needs_background": "light"
          }
        }
      ]
    },
    {
      "cell_type": "code",
      "metadata": {
        "colab": {
          "base_uri": "https://localhost:8080/",
          "height": 283
        },
        "id": "zNE5RbZQh4cv",
        "outputId": "7e44b12b-0877-4b9f-c5d0-f71c2390c02a"
      },
      "source": [
        "plt.plot(np.arange(15), accuracy_train)"
      ],
      "execution_count": 225,
      "outputs": [
        {
          "output_type": "execute_result",
          "data": {
            "text/plain": [
              "[<matplotlib.lines.Line2D at 0x7f6f1126a850>]"
            ]
          },
          "metadata": {},
          "execution_count": 225
        },
        {
          "output_type": "display_data",
          "data": {
            "image/png": "[encoded data removed]",
            "text/plain": [
              "<Figure size 432x288 with 1 Axes>"
            ]
          },
          "metadata": {
            "needs_background": "light"
          }
        }
      ]
    },
    {
      "cell_type": "code",
      "metadata": {
        "colab": {
          "base_uri": "https://localhost:8080/",
          "height": 283
        },
        "id": "UuOeWrueh86D",
        "outputId": "a0e51089-0d5e-4c99-9a64-b45c820f9dd5"
      },
      "source": [
        "plt.plot(np.arange(15), accuracy_test)"
      ],
      "execution_count": 226,
      "outputs": [
        {
          "output_type": "execute_result",
          "data": {
            "text/plain": [
              "[<matplotlib.lines.Line2D at 0x7f6f1115dd10>]"
            ]
          },
          "metadata": {},
          "execution_count": 226
        },
        {
          "output_type": "display_data",
          "data": {
            "image/png": "[encoded data removed]",
            "text/plain": [
              "<Figure size 432x288 with 1 Axes>"
            ]
          },
          "metadata": {
            "needs_background": "light"
          }
        }
      ]
    },
    {
      "cell_type": "code",
      "metadata": {
        "id": "un7bxulskTXb"
      },
      "source": [
        ""
      ],
      "execution_count": 226,
      "outputs": []
    }
  ]
}