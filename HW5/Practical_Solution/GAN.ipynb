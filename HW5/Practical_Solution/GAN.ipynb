{
  "cells": [
    {
      "cell_type": "markdown",
      "source": [
        "# CE-40719: Deep Learning\n",
        "## HW5 - GAN (100 points)\n",
        "\n",
        "#### Name: \n",
        "#### Student No.: "
      ],
      "metadata": {
        "id": "EfKy-Jz7Hobf"
      }
    },
    {
      "cell_type": "markdown",
      "source": [
        "### 1) Import Libraries"
      ],
      "metadata": {
        "id": "leK8lAQ2H9gZ"
      }
    },
    {
      "cell_type": "code",
      "execution_count": null,
      "metadata": {
        "id": "flZ1MOT8F8kE"
      },
      "outputs": [],
      "source": [
        "import numpy as np\n",
        "import torch\n",
        "import torch.nn as nn\n",
        "import torch.nn.functional as F\n",
        "import torch.optim as optim\n",
        "from torchvision import datasets, transforms\n",
        "\n",
        "import matplotlib.pyplot as plt\n",
        "%matplotlib inline\n",
        "plt.rcParams['figure.figsize'] = (10, 3) # set default size of plots"
      ]
    },
    {
      "cell_type": "markdown",
      "source": [
        "### 2) Loading Dataset (10 points)\n",
        "\n",
        "In this notebook, you will use `MNIST` dataset to train your GAN. You can see more information about this dataset [here](http://yann.lecun.com/exdb/mnist/). This dataset is a 10 class dataset. It contains 60000 grayscale images (50000 for train and 10000 for test or validation) each with shape (3, 28, 28). Every image has a corresponding label which is a number in range 0 to 9."
      ],
      "metadata": {
        "id": "lk-37w6cIHXx"
      }
    },
    {
      "cell_type": "code",
      "execution_count": null,
      "metadata": {
        "id": "rg-CYaG9GU03",
        "scrolled": true
      },
      "outputs": [],
      "source": [
        "# MNIST Dataset\n",
        "train_dataset = datasets.MNIST(root='./mnist/', train=True, transform=transforms.ToTensor(), download=True)\n",
        "test_dataset = datasets.MNIST(root='./mnist/', train=False, transform=transforms.ToTensor(), download=True)"
      ]
    },
    {
      "cell_type": "code",
      "execution_count": null,
      "metadata": {
        "id": "wZ06E4yEHbGo"
      },
      "outputs": [],
      "source": [
        "# Device configuration\n",
        "device = torch.device('cuda' if torch.cuda.is_available() else 'cpu')\n",
        "\n",
        "################ Problem 01 (5 pts) ################\n",
        "# define hyper parameters\n",
        "batch_size = None\n",
        "d_lr = None\n",
        "g_lr = None\n",
        "n_epochs = None\n",
        "####################### End ########################\n",
        "z_dim = 100"
      ]
    },
    {
      "cell_type": "code",
      "execution_count": null,
      "metadata": {
        "id": "CXUYiAuzGWuh"
      },
      "outputs": [],
      "source": [
        "\n",
        "################ Problem 02 (5 pts) ################\n",
        "# Define Dataloaders\n",
        "train_loader = None\n",
        "test_loader = None\n",
        "####################### End ########################\n",
        "train_loader = torch.utils.data.DataLoader(dataset=train_dataset, batch_size=batch_size, shuffle=True)\n",
        "test_loader = torch.utils.data.DataLoader(dataset=test_dataset, batch_size=batch_size, shuffle=False)"
      ]
    },
    {
      "cell_type": "markdown",
      "source": [
        "### 3) Defining Network (30 points)\n",
        "At this stage, you should define a network that improves your GAN training and prevents problems such as mode collapse and vanishing gradients."
      ],
      "metadata": {
        "id": "CWZpzWLyISi1"
      }
    },
    {
      "cell_type": "code",
      "execution_count": null,
      "metadata": {
        "id": "b-P5Au4tHZAT"
      },
      "outputs": [],
      "source": [
        "class Discriminator(nn.Module):\n",
        "    def __init__(self):\n",
        "        super().__init__()\n",
        "\n",
        "        self.discriminator = nn.Sequential(\n",
        "            ################ Problem 03 (15 pts) ################\n",
        "            # use linear or convolutional layer\n",
        "            # use arbitrary techniques to stabilize training\n",
        "\n",
        "\n",
        "            ####################### End ########################\n",
        "        )\n",
        "\n",
        "    def forward(self, x):\n",
        "        return self.discriminator(x)\n",
        "\n",
        "\n",
        "class Generator(nn.Module):\n",
        "    def __init__(self):\n",
        "        super().__init__()\n",
        "\n",
        "        self.generator = nn.Sequential(\n",
        "            ################ Problem 04 (15 pts) ################\n",
        "            # use linear or convolutional layer\n",
        "            # use arbitrary techniques to stabilize training\n",
        "\n",
        "\n",
        "            ####################### End ########################\n",
        "        )\n",
        "\n",
        "    def forward(self, z):\n",
        "        return self.generator(z)\n"
      ]
    },
    {
      "cell_type": "markdown",
      "source": [
        "### 4) Train the Network \n",
        "At this step, you are going to train your network."
      ],
      "metadata": {
        "id": "txyXEXCLKVKe"
      }
    },
    {
      "cell_type": "code",
      "execution_count": null,
      "metadata": {
        "id": "LPNWbLh5JW1L",
        "scrolled": true
      },
      "outputs": [],
      "source": [
        "################ Problem 05 (5 pts) ################\n",
        "# Create instances of modules (discriminator and generator)\n",
        "# don't forget to put your models on device\n",
        "discriminator = None\n",
        "generator = None\n",
        "####################### End ########################"
      ]
    },
    {
      "cell_type": "code",
      "execution_count": null,
      "metadata": {
        "id": "Kv2HXF9gIQ-Q"
      },
      "outputs": [],
      "source": [
        "################ Problem 06 (5 pts) ################\n",
        "# Define two optimizer for discriminator and generator\n",
        "d_optimizer = None\n",
        "g_optimizer = None\n",
        "####################### End ########################"
      ]
    },
    {
      "cell_type": "code",
      "execution_count": null,
      "metadata": {
        "id": "DFXCjH1LLzNB"
      },
      "outputs": [],
      "source": [
        "plot_frequency = None\n",
        "\n",
        "for epoch in range(n_epochs):\n",
        "    for i, (images, labels) in enumerate(train_loader):\n",
        "        \n",
        "        ################ Problem 07 (15 pts) ################\n",
        "        # put your inputs on device\n",
        "        # Prepare what you need for training, like inputs for modules and variables for computing loss\n",
        "\n",
        "        z = None\n",
        "\n",
        "        ####################### End ########################\n",
        "\n",
        "\n",
        "\n",
        "        ################ Problem 08 (10 pts) ################\n",
        "        # calculate discriminator loss and update it\n",
        "\n",
        "\n",
        "        d_loss = None\n",
        "\n",
        "        ####################### End ########################\n",
        "        \n",
        "        \n",
        "\n",
        "        ################ Problem 09 (10 pts) ################\n",
        "        # calculate generator loss and update it\n",
        "\n",
        "\n",
        "        g_loss = None\n",
        "\n",
        "        ####################### End ########################\n",
        "\n",
        "\n",
        "    ################ Problem 10 (10 pts) ################\n",
        "    # plot some of the generated pictures based on plot frequency variable\n",
        "\n",
        "    if (epoch % plot_frequency == 0):\n",
        "        pass\n",
        "\n",
        "    ####################### End ########################\n",
        "    \n",
        "    print(\"epoch: {} \\t discriminator last batch loss: {} \\t generator last batch loss: {}\".format(epoch + 1, \n",
        "                                                                                            d_loss.item(), \n",
        "                                                                                            g_loss.item())\n",
        "    )"
      ]
    },
    {
      "cell_type": "markdown",
      "source": [
        "### 5) Save Generator\n",
        "Save your final generator parameters. Upload it with your other files."
      ],
      "metadata": {
        "id": "NtNI9PSSLxJo"
      }
    },
    {
      "cell_type": "code",
      "source": [
        "################ Problem 11 (5 pts) ################\n",
        "# save state dict of your generator\n",
        "\n",
        "####################### End ########################"
      ],
      "metadata": {
        "id": "UoyR5EIkG5Ep"
      },
      "execution_count": null,
      "outputs": []
    }
  ],
  "metadata": {
    "accelerator": "GPU",
    "colab": {
      "collapsed_sections": [],
      "name": "GAN.ipynb",
      "provenance": [],
      "toc_visible": true
    },
    "kernelspec": {
      "display_name": "Python 3",
      "language": "python",
      "name": "python3"
    },
    "language_info": {
      "codemirror_mode": {
        "name": "ipython",
        "version": 3
      },
      "file_extension": ".py",
      "mimetype": "text/x-python",
      "name": "python",
      "nbconvert_exporter": "python",
      "pygments_lexer": "ipython3",
      "version": "3.7.4"
    }
  },
  "nbformat": 4,
  "nbformat_minor": 0
}