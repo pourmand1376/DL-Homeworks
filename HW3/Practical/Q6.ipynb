{
  "nbformat": 4,
  "nbformat_minor": 0,
  "metadata": {
    "kernelspec": {
      "language": "python",
      "display_name": "Python 3",
      "name": "python3"
    },
    "language_info": {
      "pygments_lexer": "ipython3",
      "nbconvert_exporter": "python",
      "version": "3.6.4",
      "file_extension": ".py",
      "codemirror_mode": {
        "name": "ipython",
        "version": 3
      },
      "name": "python",
      "mimetype": "text/x-python"
    },
    "colab": {
      "name": "HW3_Practical.ipynb",
      "provenance": [],
      "collapsed_sections": []
    }
  },
  "cells": [
    {
      "cell_type": "markdown",
      "metadata": {
        "id": "dVSIts4GtDoR"
      },
      "source": [
        "Name: \\\n",
        "ID:"
      ]
    },
    {
      "cell_type": "markdown",
      "metadata": {
        "_uuid": "91e741e3-0b5a-4d10-a22e-fab5924337e5",
        "_cell_guid": "fc7bf9a0-e26b-4de5-8db7-7a410a9c31d1",
        "trusted": true,
        "id": "iHmz5_l7m7Xg"
      },
      "source": [
        "In this notebook, we will be building and training LSTM and GRU to predict the stock market. You do not allow to use TensorFlow and Keras libraries."
      ]
    },
    {
      "cell_type": "markdown",
      "metadata": {
        "id": "oM8a0XZDm7Xl"
      },
      "source": [
        "## 1. Libraries and settings"
      ]
    },
    {
      "cell_type": "code",
      "metadata": {
        "trusted": true,
        "id": "nDu_IGFwm7Xm"
      },
      "source": [
        "# Import libraries \n",
        "# Notice that it is important that which libraries you use, so you should import\n",
        "# libraries just here in your code\n",
        "\n",
        "\n",
        "\n"
      ],
      "execution_count": null,
      "outputs": []
    },
    {
      "cell_type": "markdown",
      "metadata": {
        "id": "4BQ7_5ckm7Xo"
      },
      "source": [
        "## 2. Load data"
      ]
    },
    {
      "cell_type": "code",
      "metadata": {
        "trusted": true,
        "colab": {
          "base_uri": "https://localhost:8080/",
          "height": 424
        },
        "id": "s-qs7PGkm7Xo",
        "outputId": "cf460a05-e297-4027-8bcb-80bf6e7348e2"
      },
      "source": [
        "# Read data \n",
        "df = pd.read_csv('NVDA.csv')\n",
        "df"
      ],
      "execution_count": null,
      "outputs": [
        {
          "output_type": "execute_result",
          "data": {
            "text/html": [
              "<div>\n",
              "<style scoped>\n",
              "    .dataframe tbody tr th:only-of-type {\n",
              "        vertical-align: middle;\n",
              "    }\n",
              "\n",
              "    .dataframe tbody tr th {\n",
              "        vertical-align: top;\n",
              "    }\n",
              "\n",
              "    .dataframe thead th {\n",
              "        text-align: right;\n",
              "    }\n",
              "</style>\n",
              "<table border=\"1\" class=\"dataframe\">\n",
              "  <thead>\n",
              "    <tr style=\"text-align: right;\">\n",
              "      <th></th>\n",
              "      <th>&lt;TICKER&gt;</th>\n",
              "      <th>&lt;PER&gt;</th>\n",
              "      <th>&lt;DATE&gt;</th>\n",
              "      <th>&lt;TIME&gt;</th>\n",
              "      <th>&lt;OPEN&gt;</th>\n",
              "      <th>&lt;HIGH&gt;</th>\n",
              "      <th>&lt;LOW&gt;</th>\n",
              "      <th>&lt;CLOSE&gt;</th>\n",
              "      <th>&lt;VOL&gt;</th>\n",
              "    </tr>\n",
              "  </thead>\n",
              "  <tbody>\n",
              "    <tr>\n",
              "      <th>0</th>\n",
              "      <td>US1.NVDA</td>\n",
              "      <td>D</td>\n",
              "      <td>20101004</td>\n",
              "      <td>0</td>\n",
              "      <td>11.24</td>\n",
              "      <td>11.430</td>\n",
              "      <td>11.01</td>\n",
              "      <td>11.23</td>\n",
              "      <td>18184874</td>\n",
              "    </tr>\n",
              "    <tr>\n",
              "      <th>1</th>\n",
              "      <td>US1.NVDA</td>\n",
              "      <td>D</td>\n",
              "      <td>20101005</td>\n",
              "      <td>0</td>\n",
              "      <td>11.48</td>\n",
              "      <td>11.500</td>\n",
              "      <td>11.29</td>\n",
              "      <td>11.32</td>\n",
              "      <td>18266877</td>\n",
              "    </tr>\n",
              "    <tr>\n",
              "      <th>2</th>\n",
              "      <td>US1.NVDA</td>\n",
              "      <td>D</td>\n",
              "      <td>20101006</td>\n",
              "      <td>0</td>\n",
              "      <td>11.32</td>\n",
              "      <td>11.370</td>\n",
              "      <td>10.67</td>\n",
              "      <td>10.78</td>\n",
              "      <td>25753399</td>\n",
              "    </tr>\n",
              "    <tr>\n",
              "      <th>3</th>\n",
              "      <td>US1.NVDA</td>\n",
              "      <td>D</td>\n",
              "      <td>20101007</td>\n",
              "      <td>0</td>\n",
              "      <td>10.82</td>\n",
              "      <td>10.840</td>\n",
              "      <td>10.38</td>\n",
              "      <td>10.70</td>\n",
              "      <td>18732301</td>\n",
              "    </tr>\n",
              "    <tr>\n",
              "      <th>4</th>\n",
              "      <td>US1.NVDA</td>\n",
              "      <td>D</td>\n",
              "      <td>20101008</td>\n",
              "      <td>0</td>\n",
              "      <td>10.65</td>\n",
              "      <td>10.950</td>\n",
              "      <td>10.51</td>\n",
              "      <td>10.86</td>\n",
              "      <td>16998198</td>\n",
              "    </tr>\n",
              "    <tr>\n",
              "      <th>...</th>\n",
              "      <td>...</td>\n",
              "      <td>...</td>\n",
              "      <td>...</td>\n",
              "      <td>...</td>\n",
              "      <td>...</td>\n",
              "      <td>...</td>\n",
              "      <td>...</td>\n",
              "      <td>...</td>\n",
              "      <td>...</td>\n",
              "    </tr>\n",
              "    <tr>\n",
              "      <th>2762</th>\n",
              "      <td>US1.NVDA</td>\n",
              "      <td>D</td>\n",
              "      <td>20210927</td>\n",
              "      <td>0</td>\n",
              "      <td>217.16</td>\n",
              "      <td>217.750</td>\n",
              "      <td>213.28</td>\n",
              "      <td>216.57</td>\n",
              "      <td>625939</td>\n",
              "    </tr>\n",
              "    <tr>\n",
              "      <th>2763</th>\n",
              "      <td>US1.NVDA</td>\n",
              "      <td>D</td>\n",
              "      <td>20210928</td>\n",
              "      <td>0</td>\n",
              "      <td>212.01</td>\n",
              "      <td>214.030</td>\n",
              "      <td>206.51</td>\n",
              "      <td>207.02</td>\n",
              "      <td>835341</td>\n",
              "    </tr>\n",
              "    <tr>\n",
              "      <th>2764</th>\n",
              "      <td>US1.NVDA</td>\n",
              "      <td>D</td>\n",
              "      <td>20210929</td>\n",
              "      <td>0</td>\n",
              "      <td>209.33</td>\n",
              "      <td>210.160</td>\n",
              "      <td>204.68</td>\n",
              "      <td>205.22</td>\n",
              "      <td>606902</td>\n",
              "    </tr>\n",
              "    <tr>\n",
              "      <th>2765</th>\n",
              "      <td>US1.NVDA</td>\n",
              "      <td>D</td>\n",
              "      <td>20210930</td>\n",
              "      <td>0</td>\n",
              "      <td>207.89</td>\n",
              "      <td>210.650</td>\n",
              "      <td>206.89</td>\n",
              "      <td>207.12</td>\n",
              "      <td>537697</td>\n",
              "    </tr>\n",
              "    <tr>\n",
              "      <th>2766</th>\n",
              "      <td>US1.NVDA</td>\n",
              "      <td>D</td>\n",
              "      <td>20211001</td>\n",
              "      <td>0</td>\n",
              "      <td>207.70</td>\n",
              "      <td>208.485</td>\n",
              "      <td>202.04</td>\n",
              "      <td>207.23</td>\n",
              "      <td>657406</td>\n",
              "    </tr>\n",
              "  </tbody>\n",
              "</table>\n",
              "<p>2767 rows × 9 columns</p>\n",
              "</div>"
            ],
            "text/plain": [
              "      <TICKER> <PER>    <DATE>  <TIME>  ...   <HIGH>   <LOW>  <CLOSE>     <VOL>\n",
              "0     US1.NVDA     D  20101004       0  ...   11.430   11.01    11.23  18184874\n",
              "1     US1.NVDA     D  20101005       0  ...   11.500   11.29    11.32  18266877\n",
              "2     US1.NVDA     D  20101006       0  ...   11.370   10.67    10.78  25753399\n",
              "3     US1.NVDA     D  20101007       0  ...   10.840   10.38    10.70  18732301\n",
              "4     US1.NVDA     D  20101008       0  ...   10.950   10.51    10.86  16998198\n",
              "...        ...   ...       ...     ...  ...      ...     ...      ...       ...\n",
              "2762  US1.NVDA     D  20210927       0  ...  217.750  213.28   216.57    625939\n",
              "2763  US1.NVDA     D  20210928       0  ...  214.030  206.51   207.02    835341\n",
              "2764  US1.NVDA     D  20210929       0  ...  210.160  204.68   205.22    606902\n",
              "2765  US1.NVDA     D  20210930       0  ...  210.650  206.89   207.12    537697\n",
              "2766  US1.NVDA     D  20211001       0  ...  208.485  202.04   207.23    657406\n",
              "\n",
              "[2767 rows x 9 columns]"
            ]
          },
          "metadata": {},
          "execution_count": 5
        }
      ]
    },
    {
      "cell_type": "code",
      "metadata": {
        "trusted": true,
        "id": "vSp1SM3Ym7Xp"
      },
      "source": [
        "# Plot close prices (\"<CLOSE>\") based on dates (\"<DATE>\") \n",
        "\n",
        "#####################\n",
        "\n",
        "# your code\n",
        "\n",
        "#####################"
      ],
      "execution_count": null,
      "outputs": []
    },
    {
      "cell_type": "code",
      "metadata": {
        "trusted": true,
        "colab": {
          "base_uri": "https://localhost:8080/"
        },
        "id": "oD1JTES8m7Xs",
        "outputId": "086ab424-2d9c-49ea-b482-1006a706518b"
      },
      "source": [
        "# function to create train, test data given stock data and sequence length\n",
        "def load_data(stock, look_back):\n",
        "    data_raw = stock.values # convert to numpy array\n",
        "    data = []\n",
        "    \n",
        "    # create all possible sequences of length look_back\n",
        "    for index in range(len(data_raw) - look_back): \n",
        "        data.append(data_raw[index: index + look_back])\n",
        "    \n",
        "    data = np.array(data);\n",
        "    test_set_size = int(np.round(0.2*data.shape[0]));\n",
        "    train_set_size = data.shape[0] - (test_set_size);\n",
        "    \n",
        "    x_train = data[:train_set_size,:-1,:]\n",
        "    y_train = data[:train_set_size,-1,:]\n",
        "    \n",
        "    x_test = data[train_set_size:,:-1]\n",
        "    y_test = data[train_set_size:,-1,:]\n",
        "    \n",
        "    return [x_train, y_train, x_test, y_test]\n",
        "\n",
        "look_back = 60 # choose sequence length\n",
        "x_train, y_train, x_test, y_test = load_data(df, look_back)\n",
        "print('x_train.shape = ',x_train.shape)\n",
        "print('y_train.shape = ',y_train.shape)\n",
        "print('x_test.shape = ',x_test.shape)\n",
        "print('y_test.shape = ',y_test.shape)"
      ],
      "execution_count": null,
      "outputs": [
        {
          "output_type": "stream",
          "name": "stdout",
          "text": [
            "x_train.shape =  (2166, 59, 9)\n",
            "y_train.shape =  (2166, 9)\n",
            "x_test.shape =  (541, 59, 9)\n",
            "y_test.shape =  (541, 9)\n"
          ]
        }
      ]
    },
    {
      "cell_type": "markdown",
      "metadata": {
        "id": "JjgGDEHWm7Xt"
      },
      "source": [
        "## 3. Build the structure of models"
      ]
    },
    {
      "cell_type": "code",
      "metadata": {
        "trusted": true,
        "id": "fhI39ig1m7Xu"
      },
      "source": [
        "# Build model\n",
        "#####################\n",
        "# you can change these parameters to get better result\n",
        "input_dim = 1\n",
        "hidden_dim = 32\n",
        "num_layers = 2 \n",
        "output_dim = 1\n",
        "\n",
        "\n",
        "# Here we define our model as a class\n",
        "class LSTM(nn.Module):\n",
        "    def __init__(self, input_dim, hidden_dim, num_layers, output_dim):\n",
        "        super(LSTM, self).__init__()\n",
        "        # Hidden dimensions\n",
        "        self.hidden_dim = hidden_dim\n",
        "\n",
        "        # Number of hidden layers\n",
        "        self.num_layers = num_layers\n",
        "\n",
        "        # batch_first=True causes input/output tensors to be of shape\n",
        "        # (batch_dim, seq_dim, feature_dim)\n",
        "        self.lstm = nn.LSTM(input_dim, hidden_dim, num_layers, batch_first=True)\n",
        "\n",
        "        # Readout layer\n",
        "        self.fc = nn.Linear(hidden_dim, output_dim)\n",
        "\n",
        "    def forward(self, x):\n",
        "        ##################\n",
        "\n",
        "        # your code\n",
        "\n",
        "        ##################\n",
        "    \n",
        "    def backward(self):\n",
        "      ################\n",
        "\n",
        "      # your code\n",
        "\n",
        "      ################\n",
        "\n",
        "\n",
        "class GRU(nn.Module):\n",
        "    def __init__(self, input_dim, hidden_dim, num_layers, output_dim):\n",
        "        super(LSTM, self).__init__()\n",
        "        # Hidden dimensions\n",
        "        self.hidden_dim = hidden_dim\n",
        "\n",
        "        # Number of hidden layers\n",
        "        self.num_layers = num_layers\n",
        "\n",
        "        # batch_first=True causes input/output tensors to be of shape\n",
        "        # (batch_dim, seq_dim, feature_dim)\n",
        "        self.lstm = nn.LSTM(input_dim, hidden_dim, num_layers, batch_first=True)\n",
        "\n",
        "        # Readout layer\n",
        "        self.fc = nn.Linear(hidden_dim, output_dim)\n",
        "\n",
        "    def forward(self, x):\n",
        "        ##################\n",
        "\n",
        "        # your code\n",
        "\n",
        "        ##################\n",
        "    \n",
        "    def backward(self):\n",
        "      ################\n",
        "\n",
        "      # your code\n",
        "\n",
        "      ################\n",
        "\n",
        "        "
      ],
      "execution_count": null,
      "outputs": []
    },
    {
      "cell_type": "code",
      "metadata": {
        "trusted": true,
        "id": "sgzOiufmm7Xu"
      },
      "source": [
        "# Train models\n",
        "\n",
        "#####################\n",
        "\n",
        "# your code\n",
        "\n",
        "#####################"
      ],
      "execution_count": null,
      "outputs": []
    },
    {
      "cell_type": "code",
      "metadata": {
        "trusted": true,
        "id": "569zBcNnm7Xv"
      },
      "source": [
        "# Plot loss based on epochs\n",
        "\n",
        "#####################\n",
        "\n",
        "# your code\n",
        "\n",
        "#####################"
      ],
      "execution_count": null,
      "outputs": []
    },
    {
      "cell_type": "code",
      "metadata": {
        "trusted": true,
        "id": "RXDRlCICm7Xv"
      },
      "source": [
        "# make predictions\n",
        "\n",
        "#####################\n",
        "\n",
        "# your code\n",
        "\n",
        "#####################\n",
        "\n",
        "\n",
        "# Calculate root mean squared error\n",
        "\n",
        "#####################\n",
        "\n",
        "# your code\n",
        "\n",
        "#####################"
      ],
      "execution_count": null,
      "outputs": []
    },
    {
      "cell_type": "code",
      "metadata": {
        "trusted": true,
        "id": "w81MQ2Smm7Xw"
      },
      "source": [
        "# Visualising the prediction results and compare LSTM and GRU models\n",
        "\n",
        "#####################\n",
        "\n",
        "# your code\n",
        "\n",
        "#####################"
      ],
      "execution_count": null,
      "outputs": []
    },
    {
      "cell_type": "markdown",
      "metadata": {
        "id": "4qG-dT1n1zxR"
      },
      "source": [
        "**Bonus (5%)** \\\n",
        "try denoising techniques and train models again after denoising the prices. Then compare the results with previous step and explain how much improvment you can make by denoising data. "
      ]
    },
    {
      "cell_type": "code",
      "metadata": {
        "id": "pI0SwefF2R74"
      },
      "source": [
        ""
      ],
      "execution_count": null,
      "outputs": []
    }
  ]
}