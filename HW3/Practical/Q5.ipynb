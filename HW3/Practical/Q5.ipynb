{
  "nbformat": 4,
  "nbformat_minor": 0,
  "metadata": {
    "colab": {
      "name": "Q5.ipynb",
      "provenance": [],
      "collapsed_sections": []
    },
    "kernelspec": {
      "name": "python3",
      "display_name": "Python 3"
    },
    "language_info": {
      "name": "python"
    },
    "accelerator": "GPU"
  },
  "cells": [
    {
      "cell_type": "markdown",
      "metadata": {
        "id": "2QzioHG3SJO2"
      },
      "source": [
        "# Importing the dependencies"
      ]
    },
    {
      "cell_type": "code",
      "metadata": {
        "id": "xCnM1-iKO9yt",
        "colab": {
          "base_uri": "https://localhost:8080/"
        },
        "outputId": "f3de4a08-fa69-425d-e625-a0f611f19ac3"
      },
      "source": [
        "import numpy as np\n",
        "import torch\n",
        "import torch.nn as nn\n",
        "from torch.utils.data import Dataset, DataLoader\n",
        "from torchtext.datasets import YelpReviewPolarity\n",
        "import pandas as pd\n",
        "import torch.optim as optim\n",
        "import matplotlib.pyplot as plt\n",
        "from torchtext.vocab import GloVe\n",
        "from nltk import word_tokenize, sent_tokenize, RegexpTokenizer\n",
        "import nltk\n",
        "\n",
        "nltk.download('punkt')\n",
        "nltk.download('wordnet')\n",
        "nltk.download('stopwords')"
      ],
      "execution_count": null,
      "outputs": [
        {
          "output_type": "stream",
          "name": "stdout",
          "text": [
            "[nltk_data] Downloading package punkt to /root/nltk_data...\n",
            "[nltk_data]   Unzipping tokenizers/punkt.zip.\n",
            "[nltk_data] Downloading package wordnet to /root/nltk_data...\n",
            "[nltk_data]   Unzipping corpora/wordnet.zip.\n",
            "[nltk_data] Downloading package stopwords to /root/nltk_data...\n",
            "[nltk_data]   Unzipping corpora/stopwords.zip.\n"
          ]
        },
        {
          "output_type": "execute_result",
          "data": {
            "text/plain": [
              "True"
            ]
          },
          "metadata": {},
          "execution_count": 1
        }
      ]
    },
    {
      "cell_type": "markdown",
      "metadata": {
        "id": "soSEcYuwSOkY"
      },
      "source": [
        "# Downloading and preparing dataset"
      ]
    },
    {
      "cell_type": "code",
      "metadata": {
        "id": "v7xyolBpST29",
        "colab": {
          "base_uri": "https://localhost:8080/"
        },
        "outputId": "010bdc3d-a20f-45b4-dbf9-8daaf8fb043c"
      },
      "source": [
        "# run this cell to prepare your data\n",
        "\n",
        "\n",
        "# sample\n",
        "def sample_k_array(mat, k, labels=2):\n",
        "  data = []\n",
        "  for label in range(1, labels + 1):\n",
        "    temp_mat = mat[mat[:,0] == label]\n",
        "    temp_array = temp_mat[np.random.choice(temp_mat.shape[0], k, replace=False), :]\n",
        "    for item in temp_array:\n",
        "      data.append(item)\n",
        "  return np.array(data)\n",
        "\n",
        "# download dataset\n",
        "YelpReviewPolarity(root='.', split=('train', 'test'))\n",
        "\n",
        "# reading train & test data\n",
        "train_dataframe = pd.read_csv('YelpReviewPolarity/yelp_review_polarity_csv/train.csv')\n",
        "val_dataframe = pd.read_csv('YelpReviewPolarity/yelp_review_polarity_csv/test.csv')\n",
        "\n",
        "# renaming columns\n",
        "train_dataframe = train_dataframe.rename(columns={\\\n",
        "    train_dataframe.columns[0]: 'label', train_dataframe.columns[1]: 'text'})\n",
        "\n",
        "val_dataframe = val_dataframe.rename(columns={\\\n",
        "    val_dataframe.columns[0]: 'label', val_dataframe.columns[1]: 'text'})\n",
        "\n",
        "\n",
        "train_mat = train_dataframe.values\n",
        "val_mat = val_dataframe.values\n",
        "train_data = sample_k_array(train_mat, 5000)\n",
        "val_data = sample_k_array(val_mat, 1000)\n",
        "train_data = pd.DataFrame({\n",
        "    'text': train_data[:, 1],\n",
        "    'label': train_data[:, 0]\n",
        "})\n",
        "val_data = pd.DataFrame({\n",
        "    'text': val_data[:, 1],\n",
        "    'label': val_data[:, 0]\n",
        "})\n",
        "train_data['label'] -= 1\n",
        "val_data['label'] -= 1"
      ],
      "execution_count": null,
      "outputs": [
        {
          "output_type": "stream",
          "name": "stderr",
          "text": [
            "100%|██████████| 166M/166M [00:02<00:00, 56.3MB/s]\n"
          ]
        }
      ]
    },
    {
      "cell_type": "code",
      "metadata": {
        "id": "lP-_GrLaHgWL",
        "colab": {
          "base_uri": "https://localhost:8080/"
        },
        "outputId": "4b7af92e-d4ea-40c4-d188-42679543676b"
      },
      "source": [
        "# download Glove 100-dim vectors\n",
        "glove_embedding = GloVe(name='6B', dim=100)"
      ],
      "execution_count": null,
      "outputs": [
        {
          "output_type": "stream",
          "name": "stderr",
          "text": [
            ".vector_cache/glove.6B.zip: 862MB [02:42, 5.30MB/s]                           \n",
            "100%|█████████▉| 399999/400000 [00:21<00:00, 18639.99it/s]\n"
          ]
        }
      ]
    },
    {
      "cell_type": "code",
      "metadata": {
        "id": "xIrj5xiCdNmY",
        "colab": {
          "base_uri": "https://localhost:8080/",
          "height": 424
        },
        "outputId": "df75a2c5-9f79-4fc9-dbf2-f17acd37db45"
      },
      "source": [
        "train_data"
      ],
      "execution_count": null,
      "outputs": [
        {
          "output_type": "execute_result",
          "data": {
            "text/html": [
              "<div>\n",
              "<style scoped>\n",
              "    .dataframe tbody tr th:only-of-type {\n",
              "        vertical-align: middle;\n",
              "    }\n",
              "\n",
              "    .dataframe tbody tr th {\n",
              "        vertical-align: top;\n",
              "    }\n",
              "\n",
              "    .dataframe thead th {\n",
              "        text-align: right;\n",
              "    }\n",
              "</style>\n",
              "<table border=\"1\" class=\"dataframe\">\n",
              "  <thead>\n",
              "    <tr style=\"text-align: right;\">\n",
              "      <th></th>\n",
              "      <th>text</th>\n",
              "      <th>label</th>\n",
              "    </tr>\n",
              "  </thead>\n",
              "  <tbody>\n",
              "    <tr>\n",
              "      <th>0</th>\n",
              "      <td>Went to a the Harvest Festival today and the f...</td>\n",
              "      <td>0</td>\n",
              "    </tr>\n",
              "    <tr>\n",
              "      <th>1</th>\n",
              "      <td>I would in no way recommend this restaurant to...</td>\n",
              "      <td>0</td>\n",
              "    </tr>\n",
              "    <tr>\n",
              "      <th>2</th>\n",
              "      <td>I went once and they messed up the job I asked...</td>\n",
              "      <td>0</td>\n",
              "    </tr>\n",
              "    <tr>\n",
              "      <th>3</th>\n",
              "      <td>You want to know how I know they didn't make m...</td>\n",
              "      <td>0</td>\n",
              "    </tr>\n",
              "    <tr>\n",
              "      <th>4</th>\n",
              "      <td>The food was average and the dinning room was ...</td>\n",
              "      <td>0</td>\n",
              "    </tr>\n",
              "    <tr>\n",
              "      <th>...</th>\n",
              "      <td>...</td>\n",
              "      <td>...</td>\n",
              "    </tr>\n",
              "    <tr>\n",
              "      <th>9995</th>\n",
              "      <td>We walked over here to eat a late lunch after ...</td>\n",
              "      <td>1</td>\n",
              "    </tr>\n",
              "    <tr>\n",
              "      <th>9996</th>\n",
              "      <td>Not nearly as expensive as I had thought and t...</td>\n",
              "      <td>1</td>\n",
              "    </tr>\n",
              "    <tr>\n",
              "      <th>9997</th>\n",
              "      <td>One thing I love about Vegas is trying out all...</td>\n",
              "      <td>1</td>\n",
              "    </tr>\n",
              "    <tr>\n",
              "      <th>9998</th>\n",
              "      <td>Loved the food here! Intimate setting which is...</td>\n",
              "      <td>1</td>\n",
              "    </tr>\n",
              "    <tr>\n",
              "      <th>9999</th>\n",
              "      <td>Thee GOOD FRIDAY first Friday was amazing! Fir...</td>\n",
              "      <td>1</td>\n",
              "    </tr>\n",
              "  </tbody>\n",
              "</table>\n",
              "<p>10000 rows × 2 columns</p>\n",
              "</div>"
            ],
            "text/plain": [
              "                                                   text label\n",
              "0     Went to a the Harvest Festival today and the f...     0\n",
              "1     I would in no way recommend this restaurant to...     0\n",
              "2     I went once and they messed up the job I asked...     0\n",
              "3     You want to know how I know they didn't make m...     0\n",
              "4     The food was average and the dinning room was ...     0\n",
              "...                                                 ...   ...\n",
              "9995  We walked over here to eat a late lunch after ...     1\n",
              "9996  Not nearly as expensive as I had thought and t...     1\n",
              "9997  One thing I love about Vegas is trying out all...     1\n",
              "9998  Loved the food here! Intimate setting which is...     1\n",
              "9999  Thee GOOD FRIDAY first Friday was amazing! Fir...     1\n",
              "\n",
              "[10000 rows x 2 columns]"
            ]
          },
          "metadata": {},
          "execution_count": 4
        }
      ]
    },
    {
      "cell_type": "code",
      "metadata": {
        "id": "C1YtjbD6iwl7",
        "colab": {
          "base_uri": "https://localhost:8080/",
          "height": 424
        },
        "outputId": "b2951302-0d30-4c4a-a5bc-d56616b6fecb"
      },
      "source": [
        "val_data"
      ],
      "execution_count": null,
      "outputs": [
        {
          "output_type": "execute_result",
          "data": {
            "text/html": [
              "<div>\n",
              "<style scoped>\n",
              "    .dataframe tbody tr th:only-of-type {\n",
              "        vertical-align: middle;\n",
              "    }\n",
              "\n",
              "    .dataframe tbody tr th {\n",
              "        vertical-align: top;\n",
              "    }\n",
              "\n",
              "    .dataframe thead th {\n",
              "        text-align: right;\n",
              "    }\n",
              "</style>\n",
              "<table border=\"1\" class=\"dataframe\">\n",
              "  <thead>\n",
              "    <tr style=\"text-align: right;\">\n",
              "      <th></th>\n",
              "      <th>text</th>\n",
              "      <th>label</th>\n",
              "    </tr>\n",
              "  </thead>\n",
              "  <tbody>\n",
              "    <tr>\n",
              "      <th>0</th>\n",
              "      <td>Everything about this place was just so-so inc...</td>\n",
              "      <td>0</td>\n",
              "    </tr>\n",
              "    <tr>\n",
              "      <th>1</th>\n",
              "      <td>I too am a big Pita Jungle fan, and have been ...</td>\n",
              "      <td>0</td>\n",
              "    </tr>\n",
              "    <tr>\n",
              "      <th>2</th>\n",
              "      <td>I guess you really can't put lipstick on a pig...</td>\n",
              "      <td>0</td>\n",
              "    </tr>\n",
              "    <tr>\n",
              "      <th>3</th>\n",
              "      <td>I am sitting here regretting I ever came.  The...</td>\n",
              "      <td>0</td>\n",
              "    </tr>\n",
              "    <tr>\n",
              "      <th>4</th>\n",
              "      <td>We came for the oyster bar and the long line w...</td>\n",
              "      <td>0</td>\n",
              "    </tr>\n",
              "    <tr>\n",
              "      <th>...</th>\n",
              "      <td>...</td>\n",
              "      <td>...</td>\n",
              "    </tr>\n",
              "    <tr>\n",
              "      <th>1995</th>\n",
              "      <td>This is a really nice salon! Their equipment i...</td>\n",
              "      <td>1</td>\n",
              "    </tr>\n",
              "    <tr>\n",
              "      <th>1996</th>\n",
              "      <td>Good food at a decent price. Only problem when...</td>\n",
              "      <td>1</td>\n",
              "    </tr>\n",
              "    <tr>\n",
              "      <th>1997</th>\n",
              "      <td>The speedway is fun.  Parking was pretty easy ...</td>\n",
              "      <td>1</td>\n",
              "    </tr>\n",
              "    <tr>\n",
              "      <th>1998</th>\n",
              "      <td>This place is excellent and NEVER seems to be ...</td>\n",
              "      <td>1</td>\n",
              "    </tr>\n",
              "    <tr>\n",
              "      <th>1999</th>\n",
              "      <td>I love Earl of Sandwich! Ishhhh goood! The onl...</td>\n",
              "      <td>1</td>\n",
              "    </tr>\n",
              "  </tbody>\n",
              "</table>\n",
              "<p>2000 rows × 2 columns</p>\n",
              "</div>"
            ],
            "text/plain": [
              "                                                   text label\n",
              "0     Everything about this place was just so-so inc...     0\n",
              "1     I too am a big Pita Jungle fan, and have been ...     0\n",
              "2     I guess you really can't put lipstick on a pig...     0\n",
              "3     I am sitting here regretting I ever came.  The...     0\n",
              "4     We came for the oyster bar and the long line w...     0\n",
              "...                                                 ...   ...\n",
              "1995  This is a really nice salon! Their equipment i...     1\n",
              "1996  Good food at a decent price. Only problem when...     1\n",
              "1997  The speedway is fun.  Parking was pretty easy ...     1\n",
              "1998  This place is excellent and NEVER seems to be ...     1\n",
              "1999  I love Earl of Sandwich! Ishhhh goood! The onl...     1\n",
              "\n",
              "[2000 rows x 2 columns]"
            ]
          },
          "metadata": {},
          "execution_count": 5
        }
      ]
    },
    {
      "cell_type": "code",
      "metadata": {
        "id": "GXzwNua9XqR7"
      },
      "source": [
        "# your code"
      ],
      "execution_count": null,
      "outputs": []
    },
    {
      "cell_type": "markdown",
      "metadata": {
        "id": "zAMcXCJMSZNm"
      },
      "source": [
        "# Defining Model"
      ]
    },
    {
      "cell_type": "code",
      "metadata": {
        "id": "Ay7mdEZAYElY"
      },
      "source": [
        "class YelpClassifier(nn.Module):\n",
        "\n",
        "  def __init__(self):\n",
        "      super(YelpClassifier,self).__init__()\n",
        "      # your code\n",
        "\n",
        "  def forward(self):\n",
        "      # your code"
      ],
      "execution_count": null,
      "outputs": []
    },
    {
      "cell_type": "markdown",
      "metadata": {
        "id": "HpMH4qitSUH_"
      },
      "source": [
        "# Training & Evaluation"
      ]
    },
    {
      "cell_type": "code",
      "metadata": {
        "id": "ySJZ7ApQSdLB"
      },
      "source": [
        "# your code"
      ],
      "execution_count": null,
      "outputs": []
    },
    {
      "cell_type": "markdown",
      "metadata": {
        "id": "sq4yFnUuaAk0"
      },
      "source": [
        "# Draw Loss & F1-score"
      ]
    },
    {
      "cell_type": "code",
      "metadata": {
        "id": "NUSw-5uWZ_iu"
      },
      "source": [
        "# your code"
      ],
      "execution_count": null,
      "outputs": []
    }
  ]
}