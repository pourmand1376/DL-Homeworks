{
  "cells": [
    {
      "cell_type": "markdown",
      "metadata": {
        "id": "dVSIts4GtDoR"
      },
      "source": [
        "Name: Amir Pourmand\n",
        "ID: 99210259"
      ]
    },
    {
      "cell_type": "markdown",
      "metadata": {
        "_cell_guid": "fc7bf9a0-e26b-4de5-8db7-7a410a9c31d1",
        "_uuid": "91e741e3-0b5a-4d10-a22e-fab5924337e5",
        "id": "iHmz5_l7m7Xg",
        "trusted": true
      },
      "source": [
        "In this notebook, we will be building and training LSTM and GRU to predict the stock market. You do not allow to use TensorFlow and Keras libraries."
      ]
    },
    {
      "cell_type": "markdown",
      "metadata": {
        "id": "oM8a0XZDm7Xl"
      },
      "source": [
        "## 1. Libraries and settings"
      ]
    },
    {
      "cell_type": "code",
      "execution_count": null,
      "metadata": {
        "id": "nDu_IGFwm7Xm",
        "trusted": true
      },
      "outputs": [],
      "source": [
        "# Import libraries \n",
        "# Notice that it is important that which libraries you use, so you should import\n",
        "# libraries just here in your code\n",
        "import pandas as pd\n",
        "import numpy as np\n",
        "import torch\n",
        "import torch.nn as nn\n",
        "from pandas import datetime\n",
        "import math, time\n",
        "import itertools\n",
        "import datetime\n",
        "from operator import itemgetter\n",
        "from sklearn.metrics import mean_squared_error\n",
        "from sklearn.preprocessing import MinMaxScaler\n",
        "from math import sqrt"
      ]
    },
    {
      "cell_type": "markdown",
      "metadata": {
        "id": "4BQ7_5ckm7Xo"
      },
      "source": [
        "## 2. Load data"
      ]
    },
    {
      "cell_type": "code",
      "execution_count": null,
      "metadata": {
        "id": "s-qs7PGkm7Xo",
        "trusted": true
      },
      "outputs": [],
      "source": [
        "# Read data \n",
        "df = pd.read_csv('NVDA.csv')\n",
        "df"
      ]
    },
    {
      "cell_type": "code",
      "execution_count": null,
      "metadata": {
        "id": "vSp1SM3Ym7Xp",
        "trusted": true
      },
      "outputs": [],
      "source": [
        "# Plot close prices (\"<CLOSE>\") based on dates (\"<DATE>\") \n",
        "\n",
        "#####################\n",
        "data=pd.read_csv('NVDA.csv',index_col=2,parse_dates=True)\n",
        "data[['<CLOSE>']].plot()\n",
        "# your code\n",
        "\n",
        "#####################"
      ]
    },
    {
      "cell_type": "code",
      "execution_count": null,
      "metadata": {
        "id": "oD1JTES8m7Xs",
        "trusted": true
      },
      "outputs": [],
      "source": [
        "# function to create train, test data given stock data and sequence length\n",
        "def load_data(stock, look_back):\n",
        "    data_raw = stock.values # convert to numpy array\n",
        "    data = []\n",
        "    \n",
        "    for index in range(len(data_raw) - look_back): \n",
        "        data.append(data_raw[index: index + look_back])\n",
        "    \n",
        "    data = np.array(data);\n",
        "    test_set_size = int(np.round(0.2*data.shape[0]));\n",
        "    train_set_size = data.shape[0] - (test_set_size);\n",
        "    \n",
        "    x_train = data[:train_set_size,:-1,:]\n",
        "    y_train = data[:train_set_size,-1,:]\n",
        "    \n",
        "    x_test = data[train_set_size:,:-1]\n",
        "    y_test = data[train_set_size:,-1,:]\n",
        "    \n",
        "    return [x_train, y_train, x_test, y_test]\n",
        "\n",
        "look_back = 60 # choose sequence length\n",
        "x_train, y_train, x_test, y_test = load_data(df, look_back)\n",
        "print('x_train.shape = ',x_train.shape)\n",
        "print('y_train.shape = ',y_train.shape)\n",
        "print('x_test.shape = ',x_test.shape)\n",
        "print('y_test.shape = ',y_test.shape)"
      ]
    },
    {
      "cell_type": "markdown",
      "metadata": {
        "id": "JjgGDEHWm7Xt"
      },
      "source": [
        "## 3. Build the structure of models"
      ]
    },
    {
      "cell_type": "code",
      "execution_count": null,
      "metadata": {
        "id": "fhI39ig1m7Xu",
        "trusted": true
      },
      "outputs": [],
      "source": [
        "# Build model\n",
        "#####################\n",
        "# you can change these parameters to get better result\n",
        "input_dim = 1\n",
        "hidden_dim = 32\n",
        "num_layers = 2 \n",
        "output_dim = 1\n",
        "\n",
        "\n",
        "# Here we define our model as a class\n",
        "class LSTM(nn.Module):\n",
        "    def __init__(self, input_dim, hidden_dim, num_layers, output_dim):\n",
        "        super(LSTM, self).__init__()\n",
        "        self.hidden_dim = hidden_dim\n",
        "        self.num_layers = num_layers\n",
        "        self.lstm = nn.LSTM(input_dim, hidden_dim, num_layers, batch_first=True)\n",
        "        self.fc = nn.Linear(hidden_dim, output_dim)\n",
        "\n",
        "    def forward(self, x):\n",
        "        h0 = torch.zeros(self.num_layers, x.size(0), self.hidden_dim)\n",
        "        c0 = torch.zeros(self.num_layers, x.size(0), self.hidden_dim)\n",
        "\n",
        "        out, (hn, cn) = self.lstm(x, (h0.detach(), c0.detach()))\n",
        "        out = self.fc(out[:, -1, :]) \n",
        "        return out\n",
        "    \n",
        "\n",
        "class GRU(nn.Module):\n",
        "    def __init__(self, input_dim, hidden_dim, num_layers, output_dim):\n",
        "        super(LSTM, self).__init__()\n",
        "        self.hidden_dim = hidden_dim\n",
        "        self.num_layers = num_layers\n",
        "        self.gru = nn.GRU(input_dim, hidden_dim, num_layers, batch_first=True)\n",
        "        self.fc = nn.Linear(hidden_dim, output_dim)\n",
        "\n",
        "    def forward(self, x):\n",
        "        h0 = torch.zeros(self.num_layers, x.size(0), self.hidden_dim)\n",
        "        c0 = torch.zeros(self.num_layers, x.size(0), self.hidden_dim)\n",
        "\n",
        "        out, (hn, cn) = self.gru(x, (h0.detach(), c0.detach()))\n",
        "        out = self.fc(out[:, -1, :]) \n",
        "        return out\n",
        "    "
      ]
    },
    {
      "cell_type": "code",
      "execution_count": null,
      "metadata": {
        "id": "sgzOiufmm7Xu",
        "trusted": true
      },
      "outputs": [],
      "source": [
        "# Train models\n",
        "model = LSTM(input_dim=input_dim, hidden_dim=hidden_dim, output_dim=output_dim, num_layers=num_layers)\n",
        "\n",
        "loss_fn = torch.nn.MSELoss()\n",
        "\n",
        "optimiser = torch.optim.Adam(model.parameters(), lr=0.01)\n",
        "print(model)\n",
        "print(len(list(model.parameters())))\n",
        "for i in range(len(list(model.parameters()))):\n",
        "    print(list(model.parameters())[i].size())\n",
        "num_epochs = 100\n",
        "hist = np.zeros(num_epochs)\n",
        "\n",
        "seq_dim =look_back-1  \n",
        "\n",
        "for t in range(num_epochs):\n",
        "    \n",
        "    y_train_pred = model(x_train)\n",
        "\n",
        "    loss = loss_fn(y_train_pred, y_train)\n",
        "    if t % 10 == 0 and t !=0:\n",
        "        print(\"Epoch \", t, \"MSE: \", loss.item())\n",
        "    hist[t] = loss.item()\n",
        "\n",
        "    optimiser.zero_grad()\n",
        "\n",
        "    loss.backward()\n",
        "\n",
        "    optimiser.step()\n",
        "# your code\n",
        "\n",
        "#####################"
      ]
    },
    {
      "cell_type": "code",
      "execution_count": null,
      "metadata": {
        "id": "569zBcNnm7Xv",
        "trusted": true
      },
      "outputs": [],
      "source": [
        "# Plot loss based on epochs\n",
        "\n",
        "plt.plot(hist, label=\"Training loss\")\n",
        "plt.legend()\n",
        "plt.show()\n"
      ]
    },
    {
      "cell_type": "code",
      "execution_count": null,
      "metadata": {
        "id": "RXDRlCICm7Xv",
        "trusted": true
      },
      "outputs": [],
      "source": [
        "# make predictions\n",
        "\n",
        "#####################\n",
        "# make predictions\n",
        "y_test_pred = model(x_test)\n",
        "\n",
        "# invert predictions\n",
        "y_train_pred = scaler.inverse_transform(y_train_pred.detach().numpy())\n",
        "y_train = scaler.inverse_transform(y_train.detach().numpy())\n",
        "y_test_pred = scaler.inverse_transform(y_test_pred.detach().numpy())\n",
        "y_test = scaler.inverse_transform(y_test.detach().numpy())\n",
        "\n",
        "\n",
        "\n",
        "# your code\n",
        "\n",
        "#####################\n",
        "\n",
        "\n",
        "# Calculate root mean squared error\n",
        "trainScore = math.sqrt(mean_squared_error(y_train[:,0], y_train_pred[:,0]))\n",
        "print('Train Score: %.2f RMSE' % (trainScore))\n",
        "testScore = math.sqrt(mean_squared_error(y_test[:,0], y_test_pred[:,0]))\n",
        "print('Test Score: %.2f RMSE' % (testScore))\n",
        "#####################\n",
        "\n",
        "# your code\n",
        "\n",
        "#####################"
      ]
    },
    {
      "cell_type": "code",
      "execution_count": null,
      "metadata": {
        "id": "w81MQ2Smm7Xw",
        "trusted": true
      },
      "outputs": [],
      "source": [
        "# Visualising the prediction results and compare LSTM and GRU models\n",
        "\n",
        "#####################\n",
        "# Visualising the results\n",
        "figure, axes = plt.subplots(figsize=(15, 6))\n",
        "axes.xaxis_date()\n",
        "\n",
        "axes.plot(df_ibm[len(df_ibm)-len(y_test):].index, y_test, color = 'red', label = 'Real')\n",
        "axes.plot(df_ibm[len(df_ibm)-len(y_test):].index, y_test_pred, color = 'blue', label = 'Predicted')\n",
        "#axes.xticks(np.arange(0,394,50))\n",
        "plt.show()\n",
        "# your code\n",
        "\n",
        "#####################"
      ]
    },
    {
      "cell_type": "markdown",
      "metadata": {
        "id": "4qG-dT1n1zxR"
      },
      "source": [
        "**Bonus (5%)** \\\n",
        "try denoising techniques and train models again after denoising the prices. Then compare the results with previous step and explain how much improvment you can make by denoising data. "
      ]
    },
    {
      "cell_type": "code",
      "execution_count": null,
      "metadata": {
        "id": "pI0SwefF2R74"
      },
      "outputs": [],
      "source": []
    }
  ],
  "metadata": {
    "colab": {
      "collapsed_sections": [],
      "name": "DeepLearning_Q6_AmirPourmand.ipynb",
      "provenance": []
    },
    "kernelspec": {
      "display_name": "Python 3",
      "language": "python",
      "name": "python3"
    },
    "language_info": {
      "codemirror_mode": {
        "name": "ipython",
        "version": 3
      },
      "file_extension": ".py",
      "mimetype": "text/x-python",
      "name": "python",
      "nbconvert_exporter": "python",
      "pygments_lexer": "ipython3",
      "version": "3.6.4"
    }
  },
  "nbformat": 4,
  "nbformat_minor": 0
}
